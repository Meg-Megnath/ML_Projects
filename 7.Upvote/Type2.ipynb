{
 "cells": [
  {
   "cell_type": "code",
   "execution_count": 1,
   "metadata": {},
   "outputs": [],
   "source": [
    "import pandas as pd\n",
    "import numpy as np\n",
    "import matplotlib.pyplot as plt\n",
    "\n",
    "\n",
    "import warnings\n",
    "warnings.filterwarnings('ignore')"
   ]
  },
  {
   "cell_type": "code",
   "execution_count": 2,
   "metadata": {},
   "outputs": [],
   "source": [
    "train = pd.read_csv('train_NIR5Yl1.csv')\n",
    "test = pd.read_csv('test_8i3B3FC.csv')"
   ]
  },
  {
   "cell_type": "code",
   "execution_count": 3,
   "metadata": {},
   "outputs": [
    {
     "data": {
      "text/plain": [
       "((330045, 7), (141448, 6))"
      ]
     },
     "execution_count": 3,
     "metadata": {},
     "output_type": "execute_result"
    }
   ],
   "source": [
    "train.shape, test.shape"
   ]
  },
  {
   "cell_type": "code",
   "execution_count": 4,
   "metadata": {},
   "outputs": [
    {
     "data": {
      "text/html": [
       "<div>\n",
       "<style scoped>\n",
       "    .dataframe tbody tr th:only-of-type {\n",
       "        vertical-align: middle;\n",
       "    }\n",
       "\n",
       "    .dataframe tbody tr th {\n",
       "        vertical-align: top;\n",
       "    }\n",
       "\n",
       "    .dataframe thead th {\n",
       "        text-align: right;\n",
       "    }\n",
       "</style>\n",
       "<table border=\"1\" class=\"dataframe\">\n",
       "  <thead>\n",
       "    <tr style=\"text-align: right;\">\n",
       "      <th></th>\n",
       "      <th>ID</th>\n",
       "      <th>Tag</th>\n",
       "      <th>Reputation</th>\n",
       "      <th>Answers</th>\n",
       "      <th>Username</th>\n",
       "      <th>Views</th>\n",
       "      <th>Upvotes</th>\n",
       "    </tr>\n",
       "  </thead>\n",
       "  <tbody>\n",
       "    <tr>\n",
       "      <th>0</th>\n",
       "      <td>52664</td>\n",
       "      <td>a</td>\n",
       "      <td>3942.0</td>\n",
       "      <td>2.0</td>\n",
       "      <td>155623</td>\n",
       "      <td>7855.0</td>\n",
       "      <td>42.0</td>\n",
       "    </tr>\n",
       "    <tr>\n",
       "      <th>1</th>\n",
       "      <td>327662</td>\n",
       "      <td>a</td>\n",
       "      <td>26046.0</td>\n",
       "      <td>12.0</td>\n",
       "      <td>21781</td>\n",
       "      <td>55801.0</td>\n",
       "      <td>1175.0</td>\n",
       "    </tr>\n",
       "    <tr>\n",
       "      <th>2</th>\n",
       "      <td>468453</td>\n",
       "      <td>c</td>\n",
       "      <td>1358.0</td>\n",
       "      <td>4.0</td>\n",
       "      <td>56177</td>\n",
       "      <td>8067.0</td>\n",
       "      <td>60.0</td>\n",
       "    </tr>\n",
       "    <tr>\n",
       "      <th>3</th>\n",
       "      <td>96996</td>\n",
       "      <td>a</td>\n",
       "      <td>264.0</td>\n",
       "      <td>3.0</td>\n",
       "      <td>168793</td>\n",
       "      <td>27064.0</td>\n",
       "      <td>9.0</td>\n",
       "    </tr>\n",
       "    <tr>\n",
       "      <th>4</th>\n",
       "      <td>131465</td>\n",
       "      <td>c</td>\n",
       "      <td>4271.0</td>\n",
       "      <td>4.0</td>\n",
       "      <td>112223</td>\n",
       "      <td>13986.0</td>\n",
       "      <td>83.0</td>\n",
       "    </tr>\n",
       "  </tbody>\n",
       "</table>\n",
       "</div>"
      ],
      "text/plain": [
       "       ID Tag  Reputation  Answers  Username    Views  Upvotes\n",
       "0   52664   a      3942.0      2.0    155623   7855.0     42.0\n",
       "1  327662   a     26046.0     12.0     21781  55801.0   1175.0\n",
       "2  468453   c      1358.0      4.0     56177   8067.0     60.0\n",
       "3   96996   a       264.0      3.0    168793  27064.0      9.0\n",
       "4  131465   c      4271.0      4.0    112223  13986.0     83.0"
      ]
     },
     "execution_count": 4,
     "metadata": {},
     "output_type": "execute_result"
    }
   ],
   "source": [
    "train.head()"
   ]
  },
  {
   "cell_type": "code",
   "execution_count": 5,
   "metadata": {},
   "outputs": [
    {
     "name": "stdout",
     "output_type": "stream",
     "text": [
      "<class 'pandas.core.frame.DataFrame'>\n",
      "RangeIndex: 330045 entries, 0 to 330044\n",
      "Data columns (total 7 columns):\n",
      " #   Column      Non-Null Count   Dtype  \n",
      "---  ------      --------------   -----  \n",
      " 0   ID          330045 non-null  int64  \n",
      " 1   Tag         330045 non-null  object \n",
      " 2   Reputation  330045 non-null  float64\n",
      " 3   Answers     330045 non-null  float64\n",
      " 4   Username    330045 non-null  int64  \n",
      " 5   Views       330045 non-null  float64\n",
      " 6   Upvotes     330045 non-null  float64\n",
      "dtypes: float64(4), int64(2), object(1)\n",
      "memory usage: 17.6+ MB\n"
     ]
    }
   ],
   "source": [
    "train.info()"
   ]
  },
  {
   "cell_type": "code",
   "execution_count": 6,
   "metadata": {},
   "outputs": [
    {
     "name": "stdout",
     "output_type": "stream",
     "text": [
      "<class 'pandas.core.frame.DataFrame'>\n",
      "RangeIndex: 141448 entries, 0 to 141447\n",
      "Data columns (total 6 columns):\n",
      " #   Column      Non-Null Count   Dtype  \n",
      "---  ------      --------------   -----  \n",
      " 0   ID          141448 non-null  int64  \n",
      " 1   Tag         141448 non-null  object \n",
      " 2   Reputation  141448 non-null  float64\n",
      " 3   Answers     141448 non-null  float64\n",
      " 4   Username    141448 non-null  int64  \n",
      " 5   Views       141448 non-null  float64\n",
      "dtypes: float64(3), int64(2), object(1)\n",
      "memory usage: 6.5+ MB\n"
     ]
    }
   ],
   "source": [
    "test.info()"
   ]
  },
  {
   "cell_type": "code",
   "execution_count": 7,
   "metadata": {},
   "outputs": [
    {
     "data": {
      "text/html": [
       "<div>\n",
       "<style scoped>\n",
       "    .dataframe tbody tr th:only-of-type {\n",
       "        vertical-align: middle;\n",
       "    }\n",
       "\n",
       "    .dataframe tbody tr th {\n",
       "        vertical-align: top;\n",
       "    }\n",
       "\n",
       "    .dataframe thead th {\n",
       "        text-align: right;\n",
       "    }\n",
       "</style>\n",
       "<table border=\"1\" class=\"dataframe\">\n",
       "  <thead>\n",
       "    <tr style=\"text-align: right;\">\n",
       "      <th></th>\n",
       "      <th>ID</th>\n",
       "      <th>Tag</th>\n",
       "      <th>Reputation</th>\n",
       "      <th>Answers</th>\n",
       "      <th>Username</th>\n",
       "      <th>Views</th>\n",
       "      <th>Upvotes</th>\n",
       "    </tr>\n",
       "  </thead>\n",
       "  <tbody>\n",
       "    <tr>\n",
       "      <th>count</th>\n",
       "      <td>330045.000000</td>\n",
       "      <td>330045</td>\n",
       "      <td>3.300450e+05</td>\n",
       "      <td>330045.000000</td>\n",
       "      <td>330045.000000</td>\n",
       "      <td>3.300450e+05</td>\n",
       "      <td>330045.000000</td>\n",
       "    </tr>\n",
       "    <tr>\n",
       "      <th>unique</th>\n",
       "      <td>NaN</td>\n",
       "      <td>10</td>\n",
       "      <td>NaN</td>\n",
       "      <td>NaN</td>\n",
       "      <td>NaN</td>\n",
       "      <td>NaN</td>\n",
       "      <td>NaN</td>\n",
       "    </tr>\n",
       "    <tr>\n",
       "      <th>top</th>\n",
       "      <td>NaN</td>\n",
       "      <td>c</td>\n",
       "      <td>NaN</td>\n",
       "      <td>NaN</td>\n",
       "      <td>NaN</td>\n",
       "      <td>NaN</td>\n",
       "      <td>NaN</td>\n",
       "    </tr>\n",
       "    <tr>\n",
       "      <th>freq</th>\n",
       "      <td>NaN</td>\n",
       "      <td>72458</td>\n",
       "      <td>NaN</td>\n",
       "      <td>NaN</td>\n",
       "      <td>NaN</td>\n",
       "      <td>NaN</td>\n",
       "      <td>NaN</td>\n",
       "    </tr>\n",
       "    <tr>\n",
       "      <th>mean</th>\n",
       "      <td>235748.682789</td>\n",
       "      <td>NaN</td>\n",
       "      <td>7.773147e+03</td>\n",
       "      <td>3.917672</td>\n",
       "      <td>81442.888803</td>\n",
       "      <td>2.964507e+04</td>\n",
       "      <td>337.505358</td>\n",
       "    </tr>\n",
       "    <tr>\n",
       "      <th>std</th>\n",
       "      <td>136039.418471</td>\n",
       "      <td>NaN</td>\n",
       "      <td>2.706141e+04</td>\n",
       "      <td>3.579515</td>\n",
       "      <td>49215.100730</td>\n",
       "      <td>8.095646e+04</td>\n",
       "      <td>3592.441135</td>\n",
       "    </tr>\n",
       "    <tr>\n",
       "      <th>min</th>\n",
       "      <td>1.000000</td>\n",
       "      <td>NaN</td>\n",
       "      <td>0.000000e+00</td>\n",
       "      <td>0.000000</td>\n",
       "      <td>0.000000</td>\n",
       "      <td>9.000000e+00</td>\n",
       "      <td>0.000000</td>\n",
       "    </tr>\n",
       "    <tr>\n",
       "      <th>25%</th>\n",
       "      <td>117909.000000</td>\n",
       "      <td>NaN</td>\n",
       "      <td>2.820000e+02</td>\n",
       "      <td>2.000000</td>\n",
       "      <td>39808.000000</td>\n",
       "      <td>2.594000e+03</td>\n",
       "      <td>8.000000</td>\n",
       "    </tr>\n",
       "    <tr>\n",
       "      <th>50%</th>\n",
       "      <td>235699.000000</td>\n",
       "      <td>NaN</td>\n",
       "      <td>1.236000e+03</td>\n",
       "      <td>3.000000</td>\n",
       "      <td>79010.000000</td>\n",
       "      <td>8.954000e+03</td>\n",
       "      <td>28.000000</td>\n",
       "    </tr>\n",
       "    <tr>\n",
       "      <th>75%</th>\n",
       "      <td>353620.000000</td>\n",
       "      <td>NaN</td>\n",
       "      <td>5.118000e+03</td>\n",
       "      <td>5.000000</td>\n",
       "      <td>122559.000000</td>\n",
       "      <td>2.687000e+04</td>\n",
       "      <td>107.000000</td>\n",
       "    </tr>\n",
       "    <tr>\n",
       "      <th>max</th>\n",
       "      <td>471493.000000</td>\n",
       "      <td>NaN</td>\n",
       "      <td>1.042428e+06</td>\n",
       "      <td>76.000000</td>\n",
       "      <td>175738.000000</td>\n",
       "      <td>5.231058e+06</td>\n",
       "      <td>615278.000000</td>\n",
       "    </tr>\n",
       "  </tbody>\n",
       "</table>\n",
       "</div>"
      ],
      "text/plain": [
       "                   ID     Tag    Reputation        Answers       Username  \\\n",
       "count   330045.000000  330045  3.300450e+05  330045.000000  330045.000000   \n",
       "unique            NaN      10           NaN            NaN            NaN   \n",
       "top               NaN       c           NaN            NaN            NaN   \n",
       "freq              NaN   72458           NaN            NaN            NaN   \n",
       "mean    235748.682789     NaN  7.773147e+03       3.917672   81442.888803   \n",
       "std     136039.418471     NaN  2.706141e+04       3.579515   49215.100730   \n",
       "min          1.000000     NaN  0.000000e+00       0.000000       0.000000   \n",
       "25%     117909.000000     NaN  2.820000e+02       2.000000   39808.000000   \n",
       "50%     235699.000000     NaN  1.236000e+03       3.000000   79010.000000   \n",
       "75%     353620.000000     NaN  5.118000e+03       5.000000  122559.000000   \n",
       "max     471493.000000     NaN  1.042428e+06      76.000000  175738.000000   \n",
       "\n",
       "               Views        Upvotes  \n",
       "count   3.300450e+05  330045.000000  \n",
       "unique           NaN            NaN  \n",
       "top              NaN            NaN  \n",
       "freq             NaN            NaN  \n",
       "mean    2.964507e+04     337.505358  \n",
       "std     8.095646e+04    3592.441135  \n",
       "min     9.000000e+00       0.000000  \n",
       "25%     2.594000e+03       8.000000  \n",
       "50%     8.954000e+03      28.000000  \n",
       "75%     2.687000e+04     107.000000  \n",
       "max     5.231058e+06  615278.000000  "
      ]
     },
     "execution_count": 7,
     "metadata": {},
     "output_type": "execute_result"
    }
   ],
   "source": [
    "train.describe(include = 'all')"
   ]
  },
  {
   "cell_type": "code",
   "execution_count": 8,
   "metadata": {},
   "outputs": [
    {
     "data": {
      "text/html": [
       "<div>\n",
       "<style scoped>\n",
       "    .dataframe tbody tr th:only-of-type {\n",
       "        vertical-align: middle;\n",
       "    }\n",
       "\n",
       "    .dataframe tbody tr th {\n",
       "        vertical-align: top;\n",
       "    }\n",
       "\n",
       "    .dataframe thead th {\n",
       "        text-align: right;\n",
       "    }\n",
       "</style>\n",
       "<table border=\"1\" class=\"dataframe\">\n",
       "  <thead>\n",
       "    <tr style=\"text-align: right;\">\n",
       "      <th></th>\n",
       "      <th>ID</th>\n",
       "      <th>Tag</th>\n",
       "      <th>Reputation</th>\n",
       "      <th>Answers</th>\n",
       "      <th>Username</th>\n",
       "      <th>Views</th>\n",
       "    </tr>\n",
       "  </thead>\n",
       "  <tbody>\n",
       "    <tr>\n",
       "      <th>count</th>\n",
       "      <td>141448.000000</td>\n",
       "      <td>141448</td>\n",
       "      <td>1.414480e+05</td>\n",
       "      <td>141448.000000</td>\n",
       "      <td>141448.000000</td>\n",
       "      <td>1.414480e+05</td>\n",
       "    </tr>\n",
       "    <tr>\n",
       "      <th>unique</th>\n",
       "      <td>NaN</td>\n",
       "      <td>10</td>\n",
       "      <td>NaN</td>\n",
       "      <td>NaN</td>\n",
       "      <td>NaN</td>\n",
       "      <td>NaN</td>\n",
       "    </tr>\n",
       "    <tr>\n",
       "      <th>top</th>\n",
       "      <td>NaN</td>\n",
       "      <td>j</td>\n",
       "      <td>NaN</td>\n",
       "      <td>NaN</td>\n",
       "      <td>NaN</td>\n",
       "      <td>NaN</td>\n",
       "    </tr>\n",
       "    <tr>\n",
       "      <th>freq</th>\n",
       "      <td>NaN</td>\n",
       "      <td>30811</td>\n",
       "      <td>NaN</td>\n",
       "      <td>NaN</td>\n",
       "      <td>NaN</td>\n",
       "      <td>NaN</td>\n",
       "    </tr>\n",
       "    <tr>\n",
       "      <th>mean</th>\n",
       "      <td>235743.073497</td>\n",
       "      <td>NaN</td>\n",
       "      <td>7.920927e+03</td>\n",
       "      <td>3.914873</td>\n",
       "      <td>81348.231117</td>\n",
       "      <td>2.984633e+04</td>\n",
       "    </tr>\n",
       "    <tr>\n",
       "      <th>std</th>\n",
       "      <td>136269.867118</td>\n",
       "      <td>NaN</td>\n",
       "      <td>2.791072e+04</td>\n",
       "      <td>3.577460</td>\n",
       "      <td>49046.098215</td>\n",
       "      <td>8.034374e+04</td>\n",
       "    </tr>\n",
       "    <tr>\n",
       "      <th>min</th>\n",
       "      <td>7.000000</td>\n",
       "      <td>NaN</td>\n",
       "      <td>0.000000e+00</td>\n",
       "      <td>0.000000</td>\n",
       "      <td>4.000000</td>\n",
       "      <td>9.000000e+00</td>\n",
       "    </tr>\n",
       "    <tr>\n",
       "      <th>25%</th>\n",
       "      <td>117797.000000</td>\n",
       "      <td>NaN</td>\n",
       "      <td>2.860000e+02</td>\n",
       "      <td>2.000000</td>\n",
       "      <td>40222.750000</td>\n",
       "      <td>2.608000e+03</td>\n",
       "    </tr>\n",
       "    <tr>\n",
       "      <th>50%</th>\n",
       "      <td>235830.000000</td>\n",
       "      <td>NaN</td>\n",
       "      <td>1.245000e+03</td>\n",
       "      <td>3.000000</td>\n",
       "      <td>78795.500000</td>\n",
       "      <td>8.977000e+03</td>\n",
       "    </tr>\n",
       "    <tr>\n",
       "      <th>75%</th>\n",
       "      <td>353616.000000</td>\n",
       "      <td>NaN</td>\n",
       "      <td>5.123000e+03</td>\n",
       "      <td>5.000000</td>\n",
       "      <td>122149.000000</td>\n",
       "      <td>2.698925e+04</td>\n",
       "    </tr>\n",
       "    <tr>\n",
       "      <th>max</th>\n",
       "      <td>471488.000000</td>\n",
       "      <td>NaN</td>\n",
       "      <td>1.042428e+06</td>\n",
       "      <td>73.000000</td>\n",
       "      <td>175737.000000</td>\n",
       "      <td>5.004669e+06</td>\n",
       "    </tr>\n",
       "  </tbody>\n",
       "</table>\n",
       "</div>"
      ],
      "text/plain": [
       "                   ID     Tag    Reputation        Answers       Username  \\\n",
       "count   141448.000000  141448  1.414480e+05  141448.000000  141448.000000   \n",
       "unique            NaN      10           NaN            NaN            NaN   \n",
       "top               NaN       j           NaN            NaN            NaN   \n",
       "freq              NaN   30811           NaN            NaN            NaN   \n",
       "mean    235743.073497     NaN  7.920927e+03       3.914873   81348.231117   \n",
       "std     136269.867118     NaN  2.791072e+04       3.577460   49046.098215   \n",
       "min          7.000000     NaN  0.000000e+00       0.000000       4.000000   \n",
       "25%     117797.000000     NaN  2.860000e+02       2.000000   40222.750000   \n",
       "50%     235830.000000     NaN  1.245000e+03       3.000000   78795.500000   \n",
       "75%     353616.000000     NaN  5.123000e+03       5.000000  122149.000000   \n",
       "max     471488.000000     NaN  1.042428e+06      73.000000  175737.000000   \n",
       "\n",
       "               Views  \n",
       "count   1.414480e+05  \n",
       "unique           NaN  \n",
       "top              NaN  \n",
       "freq             NaN  \n",
       "mean    2.984633e+04  \n",
       "std     8.034374e+04  \n",
       "min     9.000000e+00  \n",
       "25%     2.608000e+03  \n",
       "50%     8.977000e+03  \n",
       "75%     2.698925e+04  \n",
       "max     5.004669e+06  "
      ]
     },
     "execution_count": 8,
     "metadata": {},
     "output_type": "execute_result"
    }
   ],
   "source": [
    "test.describe(include = 'all')"
   ]
  },
  {
   "cell_type": "code",
   "execution_count": 9,
   "metadata": {},
   "outputs": [
    {
     "data": {
      "text/plain": [
       "ID            0\n",
       "Tag           0\n",
       "Reputation    0\n",
       "Answers       0\n",
       "Username      0\n",
       "Views         0\n",
       "Upvotes       0\n",
       "dtype: int64"
      ]
     },
     "execution_count": 9,
     "metadata": {},
     "output_type": "execute_result"
    }
   ],
   "source": [
    "train.isna().sum()"
   ]
  },
  {
   "cell_type": "code",
   "execution_count": 10,
   "metadata": {},
   "outputs": [
    {
     "data": {
      "text/plain": [
       "ID            0\n",
       "Tag           0\n",
       "Reputation    0\n",
       "Answers       0\n",
       "Username      0\n",
       "Views         0\n",
       "dtype: int64"
      ]
     },
     "execution_count": 10,
     "metadata": {},
     "output_type": "execute_result"
    }
   ],
   "source": [
    "test.isna().sum()"
   ]
  },
  {
   "cell_type": "code",
   "execution_count": 11,
   "metadata": {},
   "outputs": [
    {
     "data": {
      "text/plain": [
       "array(['a', 'c', 'r', 'j', 'p', 's', 'h', 'o', 'i', 'x'], dtype=object)"
      ]
     },
     "execution_count": 11,
     "metadata": {},
     "output_type": "execute_result"
    }
   ],
   "source": [
    "train['Tag'].unique()"
   ]
  },
  {
   "cell_type": "code",
   "execution_count": 12,
   "metadata": {},
   "outputs": [
    {
     "data": {
      "text/html": [
       "<div>\n",
       "<style scoped>\n",
       "    .dataframe tbody tr th:only-of-type {\n",
       "        vertical-align: middle;\n",
       "    }\n",
       "\n",
       "    .dataframe tbody tr th {\n",
       "        vertical-align: top;\n",
       "    }\n",
       "\n",
       "    .dataframe thead th {\n",
       "        text-align: right;\n",
       "    }\n",
       "</style>\n",
       "<table border=\"1\" class=\"dataframe\">\n",
       "  <thead>\n",
       "    <tr style=\"text-align: right;\">\n",
       "      <th></th>\n",
       "      <th>ID</th>\n",
       "      <th>Reputation</th>\n",
       "      <th>Answers</th>\n",
       "      <th>Username</th>\n",
       "      <th>Views</th>\n",
       "      <th>Upvotes</th>\n",
       "    </tr>\n",
       "  </thead>\n",
       "  <tbody>\n",
       "    <tr>\n",
       "      <th>ID</th>\n",
       "      <td>1.000000</td>\n",
       "      <td>0.008546</td>\n",
       "      <td>0.017448</td>\n",
       "      <td>0.000628</td>\n",
       "      <td>0.017400</td>\n",
       "      <td>0.006328</td>\n",
       "    </tr>\n",
       "    <tr>\n",
       "      <th>Reputation</th>\n",
       "      <td>0.008546</td>\n",
       "      <td>1.000000</td>\n",
       "      <td>0.066504</td>\n",
       "      <td>-0.041019</td>\n",
       "      <td>0.036455</td>\n",
       "      <td>0.266710</td>\n",
       "    </tr>\n",
       "    <tr>\n",
       "      <th>Answers</th>\n",
       "      <td>0.017448</td>\n",
       "      <td>0.066504</td>\n",
       "      <td>1.000000</td>\n",
       "      <td>-0.012197</td>\n",
       "      <td>0.498642</td>\n",
       "      <td>0.202033</td>\n",
       "    </tr>\n",
       "    <tr>\n",
       "      <th>Username</th>\n",
       "      <td>0.000628</td>\n",
       "      <td>-0.041019</td>\n",
       "      <td>-0.012197</td>\n",
       "      <td>1.000000</td>\n",
       "      <td>0.002306</td>\n",
       "      <td>-0.011970</td>\n",
       "    </tr>\n",
       "    <tr>\n",
       "      <th>Views</th>\n",
       "      <td>0.017400</td>\n",
       "      <td>0.036455</td>\n",
       "      <td>0.498642</td>\n",
       "      <td>0.002306</td>\n",
       "      <td>1.000000</td>\n",
       "      <td>0.437336</td>\n",
       "    </tr>\n",
       "    <tr>\n",
       "      <th>Upvotes</th>\n",
       "      <td>0.006328</td>\n",
       "      <td>0.266710</td>\n",
       "      <td>0.202033</td>\n",
       "      <td>-0.011970</td>\n",
       "      <td>0.437336</td>\n",
       "      <td>1.000000</td>\n",
       "    </tr>\n",
       "  </tbody>\n",
       "</table>\n",
       "</div>"
      ],
      "text/plain": [
       "                  ID  Reputation   Answers  Username     Views   Upvotes\n",
       "ID          1.000000    0.008546  0.017448  0.000628  0.017400  0.006328\n",
       "Reputation  0.008546    1.000000  0.066504 -0.041019  0.036455  0.266710\n",
       "Answers     0.017448    0.066504  1.000000 -0.012197  0.498642  0.202033\n",
       "Username    0.000628   -0.041019 -0.012197  1.000000  0.002306 -0.011970\n",
       "Views       0.017400    0.036455  0.498642  0.002306  1.000000  0.437336\n",
       "Upvotes     0.006328    0.266710  0.202033 -0.011970  0.437336  1.000000"
      ]
     },
     "execution_count": 12,
     "metadata": {},
     "output_type": "execute_result"
    }
   ],
   "source": [
    "train.corr()"
   ]
  },
  {
   "cell_type": "code",
   "execution_count": 13,
   "metadata": {},
   "outputs": [
    {
     "data": {
      "text/html": [
       "<div>\n",
       "<style scoped>\n",
       "    .dataframe tbody tr th:only-of-type {\n",
       "        vertical-align: middle;\n",
       "    }\n",
       "\n",
       "    .dataframe tbody tr th {\n",
       "        vertical-align: top;\n",
       "    }\n",
       "\n",
       "    .dataframe thead th {\n",
       "        text-align: right;\n",
       "    }\n",
       "</style>\n",
       "<table border=\"1\" class=\"dataframe\">\n",
       "  <thead>\n",
       "    <tr style=\"text-align: right;\">\n",
       "      <th></th>\n",
       "      <th>ID</th>\n",
       "      <th>Reputation</th>\n",
       "      <th>Answers</th>\n",
       "      <th>Username</th>\n",
       "      <th>Views</th>\n",
       "    </tr>\n",
       "  </thead>\n",
       "  <tbody>\n",
       "    <tr>\n",
       "      <th>ID</th>\n",
       "      <td>1.000000</td>\n",
       "      <td>0.008629</td>\n",
       "      <td>0.012666</td>\n",
       "      <td>-0.000972</td>\n",
       "      <td>0.016451</td>\n",
       "    </tr>\n",
       "    <tr>\n",
       "      <th>Reputation</th>\n",
       "      <td>0.008629</td>\n",
       "      <td>1.000000</td>\n",
       "      <td>0.072639</td>\n",
       "      <td>-0.041645</td>\n",
       "      <td>0.038193</td>\n",
       "    </tr>\n",
       "    <tr>\n",
       "      <th>Answers</th>\n",
       "      <td>0.012666</td>\n",
       "      <td>0.072639</td>\n",
       "      <td>1.000000</td>\n",
       "      <td>-0.014374</td>\n",
       "      <td>0.517076</td>\n",
       "    </tr>\n",
       "    <tr>\n",
       "      <th>Username</th>\n",
       "      <td>-0.000972</td>\n",
       "      <td>-0.041645</td>\n",
       "      <td>-0.014374</td>\n",
       "      <td>1.000000</td>\n",
       "      <td>0.000856</td>\n",
       "    </tr>\n",
       "    <tr>\n",
       "      <th>Views</th>\n",
       "      <td>0.016451</td>\n",
       "      <td>0.038193</td>\n",
       "      <td>0.517076</td>\n",
       "      <td>0.000856</td>\n",
       "      <td>1.000000</td>\n",
       "    </tr>\n",
       "  </tbody>\n",
       "</table>\n",
       "</div>"
      ],
      "text/plain": [
       "                  ID  Reputation   Answers  Username     Views\n",
       "ID          1.000000    0.008629  0.012666 -0.000972  0.016451\n",
       "Reputation  0.008629    1.000000  0.072639 -0.041645  0.038193\n",
       "Answers     0.012666    0.072639  1.000000 -0.014374  0.517076\n",
       "Username   -0.000972   -0.041645 -0.014374  1.000000  0.000856\n",
       "Views       0.016451    0.038193  0.517076  0.000856  1.000000"
      ]
     },
     "execution_count": 13,
     "metadata": {},
     "output_type": "execute_result"
    }
   ],
   "source": [
    "test.corr()"
   ]
  },
  {
   "cell_type": "code",
   "execution_count": 14,
   "metadata": {},
   "outputs": [
    {
     "data": {
      "text/plain": [
       "Index(['ID', 'Tag', 'Reputation', 'Answers', 'Username', 'Views', 'Upvotes'], dtype='object')"
      ]
     },
     "execution_count": 14,
     "metadata": {},
     "output_type": "execute_result"
    }
   ],
   "source": [
    "train.columns"
   ]
  },
  {
   "cell_type": "raw",
   "metadata": {},
   "source": [
    "col = ['Tag', 'Reputation', 'Answers', 'Username', 'Views']\n",
    "\n",
    "for i in col:\n",
    "    train['ID'+str(i)] = train['ID'].astype(str)+\"_\"+train[i].astype(str)\n",
    "    test['ID'+str(i)] = test['ID'].astype(str)+\"_\"+test[i].astype(str)    "
   ]
  },
  {
   "cell_type": "raw",
   "metadata": {},
   "source": [
    "col = ['Reputation', 'Answers', 'Username', 'Views']\n",
    "\n",
    "for i in col:\n",
    "    train['Tag'+str(i)] = train['Tag'].astype(str)+\"_\"+train[i].astype(str)\n",
    "    test['Tag'+str(i)] = test['Tag'].astype(str)+\"_\"+test[i].astype(str)    "
   ]
  },
  {
   "cell_type": "raw",
   "metadata": {},
   "source": [
    "col = ['Answers', 'Username', 'Views']\n",
    "\n",
    "for i in col:\n",
    "    train['Reputation'+str(i)] = train['Reputation'].astype(str)+\"_\"+train[i].astype(str)\n",
    "    test['Reputation'+str(i)] = test['Reputation'].astype(str)+\"_\"+test[i].astype(str)    "
   ]
  },
  {
   "cell_type": "raw",
   "metadata": {},
   "source": [
    "col = ['Username', 'Views']\n",
    "\n",
    "for i in col:\n",
    "    train['Answers'+str(i)] = train['Answers'].astype(str)+\"_\"+train[i].astype(str)\n",
    "    test['Answers'+str(i)] = test['Answers'].astype(str)+\"_\"+test[i].astype(str)    "
   ]
  },
  {
   "cell_type": "raw",
   "metadata": {},
   "source": [
    "col = ['Views']\n",
    "\n",
    "for i in col:\n",
    "    train['Username'+str(i)] = train['Username'].astype(str)+\"_\"+train[i].astype(str)\n",
    "    test['Username'+str(i)] = test['Username'].astype(str)+\"_\"+test[i].astype(str)    "
   ]
  },
  {
   "cell_type": "code",
   "execution_count": 15,
   "metadata": {},
   "outputs": [
    {
     "data": {
      "text/plain": [
       "((330045, 7), (141448, 6))"
      ]
     },
     "execution_count": 15,
     "metadata": {},
     "output_type": "execute_result"
    }
   ],
   "source": [
    "train.shape, test.shape"
   ]
  },
  {
   "cell_type": "code",
   "execution_count": 16,
   "metadata": {},
   "outputs": [
    {
     "data": {
      "text/plain": [
       "Index(['ID', 'Tag', 'Reputation', 'Answers', 'Username', 'Views', 'Upvotes'], dtype='object')"
      ]
     },
     "execution_count": 16,
     "metadata": {},
     "output_type": "execute_result"
    }
   ],
   "source": [
    "train.columns"
   ]
  },
  {
   "cell_type": "code",
   "execution_count": 17,
   "metadata": {},
   "outputs": [],
   "source": [
    "from sklearn.preprocessing import LabelEncoder\n",
    "label = LabelEncoder()\n",
    "\n",
    "for i in train.columns:\n",
    "    if (train[i].dtypes == 'object'):\n",
    "        train[i] = label.fit_transform(train[i])\n",
    " \n",
    "\n",
    "for i in test.columns:\n",
    "    if (test[i].dtypes == 'object'):\n",
    "        test[i] = label.fit_transform(test[i])"
   ]
  },
  {
   "cell_type": "code",
   "execution_count": 18,
   "metadata": {},
   "outputs": [],
   "source": [
    "train['Upvotes'] = train['Upvotes'].astype(int)"
   ]
  },
  {
   "cell_type": "markdown",
   "metadata": {},
   "source": [
    "# Model building"
   ]
  },
  {
   "cell_type": "code",
   "execution_count": 19,
   "metadata": {},
   "outputs": [],
   "source": [
    "from sklearn.preprocessing import StandardScaler\n",
    "Ss = StandardScaler()\n",
    "from sklearn.model_selection import train_test_split\n",
    "from sklearn import metrics"
   ]
  },
  {
   "cell_type": "code",
   "execution_count": 20,
   "metadata": {},
   "outputs": [
    {
     "data": {
      "text/html": [
       "<div>\n",
       "<style scoped>\n",
       "    .dataframe tbody tr th:only-of-type {\n",
       "        vertical-align: middle;\n",
       "    }\n",
       "\n",
       "    .dataframe tbody tr th {\n",
       "        vertical-align: top;\n",
       "    }\n",
       "\n",
       "    .dataframe thead th {\n",
       "        text-align: right;\n",
       "    }\n",
       "</style>\n",
       "<table border=\"1\" class=\"dataframe\">\n",
       "  <thead>\n",
       "    <tr style=\"text-align: right;\">\n",
       "      <th></th>\n",
       "      <th>ID</th>\n",
       "      <th>Tag</th>\n",
       "      <th>Reputation</th>\n",
       "      <th>Answers</th>\n",
       "      <th>Username</th>\n",
       "      <th>Views</th>\n",
       "    </tr>\n",
       "  </thead>\n",
       "  <tbody>\n",
       "    <tr>\n",
       "      <th>0</th>\n",
       "      <td>52664</td>\n",
       "      <td>0</td>\n",
       "      <td>3942</td>\n",
       "      <td>2</td>\n",
       "      <td>155623</td>\n",
       "      <td>7855</td>\n",
       "    </tr>\n",
       "    <tr>\n",
       "      <th>1</th>\n",
       "      <td>327662</td>\n",
       "      <td>0</td>\n",
       "      <td>26046</td>\n",
       "      <td>12</td>\n",
       "      <td>21781</td>\n",
       "      <td>55801</td>\n",
       "    </tr>\n",
       "    <tr>\n",
       "      <th>2</th>\n",
       "      <td>468453</td>\n",
       "      <td>1</td>\n",
       "      <td>1358</td>\n",
       "      <td>4</td>\n",
       "      <td>56177</td>\n",
       "      <td>8067</td>\n",
       "    </tr>\n",
       "    <tr>\n",
       "      <th>3</th>\n",
       "      <td>96996</td>\n",
       "      <td>0</td>\n",
       "      <td>264</td>\n",
       "      <td>3</td>\n",
       "      <td>168793</td>\n",
       "      <td>27064</td>\n",
       "    </tr>\n",
       "    <tr>\n",
       "      <th>4</th>\n",
       "      <td>131465</td>\n",
       "      <td>1</td>\n",
       "      <td>4271</td>\n",
       "      <td>4</td>\n",
       "      <td>112223</td>\n",
       "      <td>13986</td>\n",
       "    </tr>\n",
       "    <tr>\n",
       "      <th>...</th>\n",
       "      <td>...</td>\n",
       "      <td>...</td>\n",
       "      <td>...</td>\n",
       "      <td>...</td>\n",
       "      <td>...</td>\n",
       "      <td>...</td>\n",
       "    </tr>\n",
       "    <tr>\n",
       "      <th>330040</th>\n",
       "      <td>339800</td>\n",
       "      <td>1</td>\n",
       "      <td>36</td>\n",
       "      <td>2</td>\n",
       "      <td>84919</td>\n",
       "      <td>1063</td>\n",
       "    </tr>\n",
       "    <tr>\n",
       "      <th>330041</th>\n",
       "      <td>253800</td>\n",
       "      <td>1</td>\n",
       "      <td>1649</td>\n",
       "      <td>2</td>\n",
       "      <td>76730</td>\n",
       "      <td>23319</td>\n",
       "    </tr>\n",
       "    <tr>\n",
       "      <th>330042</th>\n",
       "      <td>210756</td>\n",
       "      <td>1</td>\n",
       "      <td>6178</td>\n",
       "      <td>2</td>\n",
       "      <td>91701</td>\n",
       "      <td>2453</td>\n",
       "    </tr>\n",
       "    <tr>\n",
       "      <th>330043</th>\n",
       "      <td>56089</td>\n",
       "      <td>4</td>\n",
       "      <td>89</td>\n",
       "      <td>2</td>\n",
       "      <td>80245</td>\n",
       "      <td>2107</td>\n",
       "    </tr>\n",
       "    <tr>\n",
       "      <th>330044</th>\n",
       "      <td>300553</td>\n",
       "      <td>4</td>\n",
       "      <td>2001</td>\n",
       "      <td>4</td>\n",
       "      <td>154692</td>\n",
       "      <td>2554</td>\n",
       "    </tr>\n",
       "  </tbody>\n",
       "</table>\n",
       "<p>330045 rows × 6 columns</p>\n",
       "</div>"
      ],
      "text/plain": [
       "            ID  Tag  Reputation  Answers  Username  Views\n",
       "0        52664    0        3942        2    155623   7855\n",
       "1       327662    0       26046       12     21781  55801\n",
       "2       468453    1        1358        4     56177   8067\n",
       "3        96996    0         264        3    168793  27064\n",
       "4       131465    1        4271        4    112223  13986\n",
       "...        ...  ...         ...      ...       ...    ...\n",
       "330040  339800    1          36        2     84919   1063\n",
       "330041  253800    1        1649        2     76730  23319\n",
       "330042  210756    1        6178        2     91701   2453\n",
       "330043   56089    4          89        2     80245   2107\n",
       "330044  300553    4        2001        4    154692   2554\n",
       "\n",
       "[330045 rows x 6 columns]"
      ]
     },
     "execution_count": 20,
     "metadata": {},
     "output_type": "execute_result"
    }
   ],
   "source": [
    "X = train.drop(['Upvotes'], axis = 1)\n",
    "y = train[['Upvotes']]\n",
    "X.astype(int)"
   ]
  },
  {
   "cell_type": "code",
   "execution_count": 21,
   "metadata": {},
   "outputs": [],
   "source": [
    "X_train, X_test, y_train, y_test = train_test_split(X, y, test_size = 0.2, random_state = 665)\n",
    "trainx = Ss.fit_transform(X_train)\n",
    "testx = Ss.fit_transform(X_test)"
   ]
  },
  {
   "cell_type": "code",
   "execution_count": 22,
   "metadata": {},
   "outputs": [],
   "source": [
    "test1 = Ss.fit_transform(test)"
   ]
  },
  {
   "cell_type": "code",
   "execution_count": 23,
   "metadata": {},
   "outputs": [],
   "source": [
    "from sklearn.linear_model import LinearRegression\n",
    "from sklearn.neighbors import KNeighborsRegressor\n",
    "from sklearn.naive_bayes import GaussianNB\n",
    "from sklearn.svm import SVR\n",
    "from sklearn.tree import DecisionTreeRegressor\n",
    "from sklearn.ensemble import RandomForestRegressor\n",
    "from sklearn.ensemble import BaggingRegressor\n",
    "from sklearn.ensemble import GradientBoostingRegressor\n",
    "from xgboost import XGBRegressor\n",
    "from sklearn.linear_model import SGDRegressor\n",
    "from sklearn.ensemble import AdaBoostRegressor\n",
    "\n",
    "\n",
    "\n",
    "\n",
    "\n",
    "lin = LinearRegression()\n",
    "KNN = KNeighborsRegressor()\n",
    "NB = GaussianNB() \n",
    "SVM = SVR()\n",
    "DT = DecisionTreeRegressor(criterion='mse', splitter='random', \n",
    "                           max_depth=5000, min_samples_split=25, min_samples_leaf=15, \n",
    "                           min_weight_fraction_leaf=0.0, max_features=None, \n",
    "                           random_state=645, max_leaf_nodes=None, \n",
    "                           min_impurity_decrease=0, min_impurity_split=None, \n",
    "                           ccp_alpha=0)\n",
    "RF = RandomForestRegressor()\n",
    "#n_estimators=5000, criterion='mse', max_depth=None, \n",
    "#                             min_samples_split=25, min_samples_leaf=15, min_weight_fraction_leaf=0.0, \n",
    "#                             max_features='log2', max_leaf_nodes=None, min_impurity_decrease=0.0, \n",
    "#                             min_impurity_split=None, bootstrap=True, oob_score=False, n_jobs=-1, \n",
    "#                             random_state=645, verbose=0, warm_start=False, \n",
    "#                             ccp_alpha=0.0, max_samples=None)\n",
    "\n",
    "BC = BaggingRegressor(base_estimator = DT, n_estimators = 80)\n",
    "GBR = GradientBoostingRegressor()\n",
    "xgb = XGBRegressor()\n",
    "SGD = SGDRegressor()\n",
    "ADC = AdaBoostRegressor()"
   ]
  },
  {
   "cell_type": "code",
   "execution_count": 24,
   "metadata": {},
   "outputs": [
    {
     "name": "stdout",
     "output_type": "stream",
     "text": [
      "MSE:      11436301.57647328\n",
      "rmse is:     3381.7601299431753\n"
     ]
    }
   ],
   "source": [
    "lin.fit(trainx, y_train)\n",
    "y_pred1 = lin.predict(testx)\n",
    "MSE = metrics.mean_squared_error(y_test,y_pred1)\n",
    "print('MSE:     ', MSE)\n",
    "rmse2 = np.sqrt(MSE)\n",
    "print('rmse is:    ',rmse2)"
   ]
  },
  {
   "cell_type": "code",
   "execution_count": 25,
   "metadata": {},
   "outputs": [
    {
     "name": "stdout",
     "output_type": "stream",
     "text": [
      "MSE:      6731871.705380176\n",
      "rmse is:     2594.5850738374675\n"
     ]
    }
   ],
   "source": [
    "KNN.fit(X_train, y_train)\n",
    "y_pred2 = KNN.predict(X_test)\n",
    "MSE = metrics.mean_squared_error(y_test,y_pred2)\n",
    "print('MSE:     ', MSE)\n",
    "rmse3 = np.sqrt(MSE)\n",
    "print('rmse is:    ',rmse3)"
   ]
  },
  {
   "cell_type": "markdown",
   "metadata": {},
   "source": [
    "SVM.fit(X_train, y_train)\n",
    "y_pred3 = SVM.predict(X_test)\n",
    "MSE = metrics.mean_squared_error(y_test,y_pred3)\n",
    "print('MSE:     ', MSE)\n",
    "rmse4 = np.sqrt(MSE)\n",
    "print('rmse is:    ',rmse4)"
   ]
  },
  {
   "cell_type": "code",
   "execution_count": 26,
   "metadata": {},
   "outputs": [
    {
     "name": "stdout",
     "output_type": "stream",
     "text": [
      "MSE:      9516812.02686731\n",
      "rmse is:     3084.9330668374814\n"
     ]
    }
   ],
   "source": [
    "DT.fit(X_train, y_train)\n",
    "y_pred4 = DT.predict(X_test)\n",
    "MSE = metrics.mean_squared_error(y_test,y_pred4)\n",
    "print('MSE:     ', MSE)\n",
    "rmse5 = np.sqrt(MSE)\n",
    "print('rmse is:    ',rmse5)"
   ]
  },
  {
   "cell_type": "markdown",
   "metadata": {},
   "source": [
    "RF.fit(X_train, y_train)\n",
    "y_pred5 = RF.predict(X_test)\n",
    "MSE = metrics.mean_squared_error(y_test,y_pred5)\n",
    "print('MSE:     ', MSE)\n",
    "rmse6 = np.sqrt(MSE)\n",
    "print('rmse is:    ',rmse6)"
   ]
  },
  {
   "cell_type": "code",
   "execution_count": 27,
   "metadata": {},
   "outputs": [
    {
     "name": "stdout",
     "output_type": "stream",
     "text": [
      "MSE:      7219716.85829372\n",
      "rmse is:     2686.9530807763877\n"
     ]
    }
   ],
   "source": [
    "BC.fit(X_train, y_train)\n",
    "y_pred6 = BC.predict(X_test)\n",
    "MSE = metrics.mean_squared_error(y_test,y_pred6)\n",
    "print('MSE:     ', MSE)\n",
    "rmse7 = np.sqrt(MSE)\n",
    "print('rmse is:    ',rmse7)"
   ]
  },
  {
   "cell_type": "code",
   "execution_count": 28,
   "metadata": {},
   "outputs": [
    {
     "name": "stdout",
     "output_type": "stream",
     "text": [
      "MSE:      1396708.32417178\n",
      "rmse is:     1181.8241511205379\n"
     ]
    }
   ],
   "source": [
    "GBR.fit(X_train, y_train)\n",
    "y_pred7 = GBR.predict(X_test)\n",
    "MSE = metrics.mean_squared_error(y_test,y_pred7)\n",
    "print('MSE:     ', MSE)\n",
    "rmse8 = np.sqrt(MSE)\n",
    "print('rmse is:    ',rmse8)"
   ]
  },
  {
   "cell_type": "code",
   "execution_count": 29,
   "metadata": {},
   "outputs": [
    {
     "name": "stdout",
     "output_type": "stream",
     "text": [
      "MSE:      1690457.535662555\n",
      "rmse is:     1300.1759633459446\n"
     ]
    }
   ],
   "source": [
    "xgb.fit(X_train, y_train)\n",
    "y_pred8 = xgb.predict(X_test)\n",
    "MSE = metrics.mean_squared_error(y_test,y_pred8)\n",
    "print('MSE:     ', MSE)\n",
    "rmse9 = np.sqrt(MSE)\n",
    "print('rmse is:    ',rmse9)"
   ]
  },
  {
   "cell_type": "code",
   "execution_count": 30,
   "metadata": {},
   "outputs": [
    {
     "name": "stdout",
     "output_type": "stream",
     "text": [
      "MSE:      1.6353485208209868e+38\n",
      "rmse is:     1.2788074604180986e+19\n"
     ]
    }
   ],
   "source": [
    "SGD.fit(X_train, y_train)\n",
    "y_pred9 = SGD.predict(X_test)\n",
    "MSE = metrics.mean_squared_error(y_test,y_pred9)\n",
    "print('MSE:     ', MSE)\n",
    "rmse10 = np.sqrt(MSE)\n",
    "print('rmse is:    ',rmse10)"
   ]
  },
  {
   "cell_type": "code",
   "execution_count": 31,
   "metadata": {},
   "outputs": [
    {
     "name": "stdout",
     "output_type": "stream",
     "text": [
      "MSE:      21633755.82007766\n",
      "rmse is:     4651.2101457661165\n"
     ]
    }
   ],
   "source": [
    "ADC.fit(X_train, y_train)\n",
    "y_pred10 = ADC.predict(X_test)\n",
    "MSE = metrics.mean_squared_error(y_test,y_pred10)\n",
    "print('MSE:     ', MSE)\n",
    "rmse11 = np.sqrt(MSE)\n",
    "print('rmse is:    ',rmse11)"
   ]
  },
  {
   "cell_type": "code",
   "execution_count": 33,
   "metadata": {},
   "outputs": [],
   "source": [
    "rmse_list = [rmse2,rmse3,rmse5,rmse7,rmse8,rmse9,rmse10,rmse11]"
   ]
  },
  {
   "cell_type": "code",
   "execution_count": 37,
   "metadata": {},
   "outputs": [],
   "source": [
    "Algo_names = [ 'Linear Regression', 'KNeighborsRegressor','DecisionTree',\n",
    "              'BaggingClassifier','GradientBoostingClassifier', 'XGBoost', 'SGDClassifier',\n",
    "              'AdaBoostClassifier']"
   ]
  },
  {
   "cell_type": "code",
   "execution_count": 38,
   "metadata": {},
   "outputs": [
    {
     "data": {
      "text/html": [
       "<div>\n",
       "<style scoped>\n",
       "    .dataframe tbody tr th:only-of-type {\n",
       "        vertical-align: middle;\n",
       "    }\n",
       "\n",
       "    .dataframe tbody tr th {\n",
       "        vertical-align: top;\n",
       "    }\n",
       "\n",
       "    .dataframe thead th {\n",
       "        text-align: right;\n",
       "    }\n",
       "</style>\n",
       "<table border=\"1\" class=\"dataframe\">\n",
       "  <thead>\n",
       "    <tr style=\"text-align: right;\">\n",
       "      <th></th>\n",
       "      <th>Model</th>\n",
       "      <th>RMSE</th>\n",
       "    </tr>\n",
       "  </thead>\n",
       "  <tbody>\n",
       "    <tr>\n",
       "      <th>6</th>\n",
       "      <td>SGDClassifier</td>\n",
       "      <td>1.278807e+19</td>\n",
       "    </tr>\n",
       "    <tr>\n",
       "      <th>7</th>\n",
       "      <td>AdaBoostClassifier</td>\n",
       "      <td>4.651210e+03</td>\n",
       "    </tr>\n",
       "    <tr>\n",
       "      <th>0</th>\n",
       "      <td>Linear Regression</td>\n",
       "      <td>3.381760e+03</td>\n",
       "    </tr>\n",
       "    <tr>\n",
       "      <th>2</th>\n",
       "      <td>DecisionTree</td>\n",
       "      <td>3.084933e+03</td>\n",
       "    </tr>\n",
       "    <tr>\n",
       "      <th>3</th>\n",
       "      <td>BaggingClassifier</td>\n",
       "      <td>2.686953e+03</td>\n",
       "    </tr>\n",
       "    <tr>\n",
       "      <th>1</th>\n",
       "      <td>KNeighborsRegressor</td>\n",
       "      <td>2.594585e+03</td>\n",
       "    </tr>\n",
       "    <tr>\n",
       "      <th>5</th>\n",
       "      <td>XGBoost</td>\n",
       "      <td>1.300176e+03</td>\n",
       "    </tr>\n",
       "    <tr>\n",
       "      <th>4</th>\n",
       "      <td>GradientBoostingClassifier</td>\n",
       "      <td>1.181824e+03</td>\n",
       "    </tr>\n",
       "  </tbody>\n",
       "</table>\n",
       "</div>"
      ],
      "text/plain": [
       "                        Model          RMSE\n",
       "6               SGDClassifier  1.278807e+19\n",
       "7          AdaBoostClassifier  4.651210e+03\n",
       "0           Linear Regression  3.381760e+03\n",
       "2                DecisionTree  3.084933e+03\n",
       "3           BaggingClassifier  2.686953e+03\n",
       "1         KNeighborsRegressor  2.594585e+03\n",
       "5                     XGBoost  1.300176e+03\n",
       "4  GradientBoostingClassifier  1.181824e+03"
      ]
     },
     "execution_count": 38,
     "metadata": {},
     "output_type": "execute_result"
    }
   ],
   "source": [
    "evaluation = pd.DataFrame({'Model': Algo_names, 'RMSE': rmse_list})\n",
    "evaluation.sort_values(by = 'RMSE', ascending = False)"
   ]
  },
  {
   "cell_type": "code",
   "execution_count": null,
   "metadata": {},
   "outputs": [],
   "source": []
  }
 ],
 "metadata": {
  "kernelspec": {
   "display_name": "Python 3",
   "language": "python",
   "name": "python3"
  },
  "language_info": {
   "codemirror_mode": {
    "name": "ipython",
    "version": 3
   },
   "file_extension": ".py",
   "mimetype": "text/x-python",
   "name": "python",
   "nbconvert_exporter": "python",
   "pygments_lexer": "ipython3",
   "version": "3.8.3"
  }
 },
 "nbformat": 4,
 "nbformat_minor": 4
}

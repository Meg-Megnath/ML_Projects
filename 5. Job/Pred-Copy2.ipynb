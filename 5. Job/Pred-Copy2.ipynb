{
 "cells": [
  {
   "cell_type": "code",
   "execution_count": 37,
   "metadata": {},
   "outputs": [],
   "source": [
    "import pandas as pd\n",
    "import numpy as np\n",
    "import matplotlib.pyplot as plt\n",
    "import seaborn as sns\n",
    "\n",
    "\n",
    "from sklearn.preprocessing import LabelEncoder, StandardScaler\n",
    "label = LabelEncoder()\n",
    "Ss = StandardScaler()\n",
    "from sklearn.model_selection import train_test_split, cross_val_score\n",
    "from xgboost import XGBClassifier\n",
    "from sklearn import metrics\n",
    "from sklearn.metrics import accuracy_score, confusion_matrix, f1_score\n",
    "\n",
    "\n",
    "import warnings\n",
    "warnings.filterwarnings('ignore')"
   ]
  },
  {
   "cell_type": "code",
   "execution_count": 38,
   "metadata": {},
   "outputs": [],
   "source": [
    "train = pd.read_csv('train_s3TEQDk.csv')\n",
    "test = pd.read_csv('test_mSzZ8RL.csv')"
   ]
  },
  {
   "cell_type": "code",
   "execution_count": 39,
   "metadata": {},
   "outputs": [
    {
     "data": {
      "text/plain": [
       "((245725, 11), (105312, 10))"
      ]
     },
     "execution_count": 39,
     "metadata": {},
     "output_type": "execute_result"
    }
   ],
   "source": [
    "train.shape, test.shape"
   ]
  },
  {
   "cell_type": "code",
   "execution_count": 40,
   "metadata": {},
   "outputs": [
    {
     "data": {
      "text/plain": [
       "ID                         0\n",
       "Gender                     0\n",
       "Age                        0\n",
       "Region_Code                0\n",
       "Occupation                 0\n",
       "Channel_Code               0\n",
       "Vintage                    0\n",
       "Credit_Product         12522\n",
       "Avg_Account_Balance        0\n",
       "Is_Active                  0\n",
       "dtype: int64"
      ]
     },
     "execution_count": 40,
     "metadata": {},
     "output_type": "execute_result"
    }
   ],
   "source": [
    "test.isna().sum()"
   ]
  },
  {
   "cell_type": "code",
   "execution_count": 41,
   "metadata": {},
   "outputs": [
    {
     "data": {
      "text/plain": [
       "No     144357\n",
       "Yes     72043\n",
       "Name: Credit_Product, dtype: int64"
      ]
     },
     "execution_count": 41,
     "metadata": {},
     "output_type": "execute_result"
    }
   ],
   "source": [
    "train['Credit_Product'].value_counts()"
   ]
  },
  {
   "cell_type": "code",
   "execution_count": 42,
   "metadata": {},
   "outputs": [],
   "source": [
    "train['Credit_Product'] = train['Credit_Product'].fillna(train['Credit_Product'].mode()[0])\n",
    "test['Credit_Product'] = test['Credit_Product'].fillna(test['Credit_Product'].mode()[0])"
   ]
  },
  {
   "cell_type": "code",
   "execution_count": 43,
   "metadata": {},
   "outputs": [],
   "source": [
    "cols = ['Age','Occupation', 'Credit_Product', 'Avg_Account_Balance', 'Is_Active']\n",
    "\n",
    "for i in cols:\n",
    "    train['Gender'+str(i)] = train['Gender'].astype(str)+'_'+train[i].astype(str)\n",
    "    test['Gender'+str(i)] = test['Gender'].astype(str)+'_'+test[i].astype(str)"
   ]
  },
  {
   "cell_type": "code",
   "execution_count": 44,
   "metadata": {},
   "outputs": [],
   "source": [
    "cols = ['Occupation','Avg_Account_Balance','Is_Active']\n",
    "\n",
    "for i in cols:\n",
    "    train['Age'+str(i)] = train['Age'].astype(str)+'_'+train[i].astype(str)\n",
    "    test['Age'+str(i)] = test['Age'].astype(str)+'_'+test[i].astype(str)"
   ]
  },
  {
   "cell_type": "code",
   "execution_count": 45,
   "metadata": {},
   "outputs": [],
   "source": [
    "cols = ['Occupation', 'Channel_Code', 'Vintage','Credit_Product']\n",
    "\n",
    "for i in cols:\n",
    "    train['Region_Code'+str(i)] = train['Region_Code'].astype(str)+'_'+train[i].astype(str)\n",
    "    test['Region_Code'+str(i)] = test['Region_Code'].astype(str)+'_'+test[i].astype(str)"
   ]
  },
  {
   "cell_type": "code",
   "execution_count": 46,
   "metadata": {},
   "outputs": [],
   "source": [
    "cols = ['Channel_Code','Vintage','Credit_Product','Avg_Account_Balance','Is_Active']\n",
    "\n",
    "for i in cols:\n",
    "    train['Occupation'+str(i)] = train['Occupation'].astype(str)+'_'+train[i].astype(str)\n",
    "    test['Occupation'+str(i)] = test['Occupation'].astype(str)+'_'+test[i].astype(str)"
   ]
  },
  {
   "cell_type": "code",
   "execution_count": 47,
   "metadata": {},
   "outputs": [],
   "source": [
    "cols = ['Vintage','Credit_Product','Avg_Account_Balance','Is_Active']\n",
    "\n",
    "for i in cols:\n",
    "    train['Channel_Code'+str(i)] = train['Channel_Code'].astype(str)+'_'+train[i].astype(str)\n",
    "    test['Channel_Code'+str(i)] = test['Channel_Code'].astype(str)+'_'+test[i].astype(str)"
   ]
  },
  {
   "cell_type": "code",
   "execution_count": 48,
   "metadata": {},
   "outputs": [],
   "source": [
    "cols = ['Credit_Product','Avg_Account_Balance','Is_Active']\n",
    "\n",
    "for i in cols:\n",
    "    train['Vintage'+str(i)] = train['Vintage'].astype(str)+'_'+train[i].astype(str)\n",
    "    test['Vintage'+str(i)] = test['Vintage'].astype(str)+'_'+test[i].astype(str)"
   ]
  },
  {
   "cell_type": "code",
   "execution_count": 49,
   "metadata": {},
   "outputs": [],
   "source": [
    "cols = ['Avg_Account_Balance','Is_Active']\n",
    "\n",
    "for i in cols:\n",
    "    train['Credit_Product'+str(i)] = train['Credit_Product'].astype(str)+'_'+train[i].astype(str)\n",
    "    test['Credit_Product'+str(i)] = test['Credit_Product'].astype(str)+'_'+test[i].astype(str)"
   ]
  },
  {
   "cell_type": "code",
   "execution_count": 50,
   "metadata": {},
   "outputs": [],
   "source": [
    "cols = ['Is_Active']\n",
    "\n",
    "for i in cols:\n",
    "    train['Avg_Account_Balance'+str(i)] = train['Avg_Account_Balance'].astype(str)+'_'+train[i].astype(str)\n",
    "    test['Avg_Account_Balance'+str(i)] = test['Avg_Account_Balance'].astype(str)+'_'+test[i].astype(str)"
   ]
  },
  {
   "cell_type": "code",
   "execution_count": 51,
   "metadata": {},
   "outputs": [],
   "source": [
    "train = pd.get_dummies(train, columns = ['Gender','Region_Code','Occupation','Channel_Code'])"
   ]
  },
  {
   "cell_type": "code",
   "execution_count": 52,
   "metadata": {},
   "outputs": [
    {
     "data": {
      "text/plain": [
       "(105312, 78)"
      ]
     },
     "execution_count": 52,
     "metadata": {},
     "output_type": "execute_result"
    }
   ],
   "source": [
    "test = pd.get_dummies(test, columns = ['Gender','Region_Code','Occupation','Channel_Code'])\n",
    "test.shape"
   ]
  },
  {
   "cell_type": "code",
   "execution_count": 53,
   "metadata": {},
   "outputs": [],
   "source": [
    "train1 = pd.read_csv('train_s3TEQDk.csv')\n",
    "test1 = pd.read_csv('test_mSzZ8RL.csv')\n",
    "\n",
    "train['Gender'] = train1['Gender']\n",
    "train['Region_Code'] = train1['Region_Code']\n",
    "train['Occupation'] = train1['Occupation']\n",
    "train['Channel_Code'] = train1['Channel_Code']\n",
    "\n",
    "\n",
    "test['Gender'] = test1['Gender']\n",
    "test['Region_Code'] = test1['Region_Code']\n",
    "test['Occupation'] = test1['Occupation']\n",
    "test['Channel_Code'] = test1['Channel_Code']"
   ]
  },
  {
   "cell_type": "code",
   "execution_count": 54,
   "metadata": {},
   "outputs": [],
   "source": [
    "for col in train.columns:\n",
    "    if (train[col].dtypes == 'object'):\n",
    "        #Train[col] = Train[col].astype(str)\n",
    "        train[col] = label.fit_transform(train[col])"
   ]
  },
  {
   "cell_type": "code",
   "execution_count": 55,
   "metadata": {},
   "outputs": [],
   "source": [
    "for col in test.columns:\n",
    "    if (test[col].dtypes == 'object'):\n",
    "        #Test[col] = Test[col].astype(str)\n",
    "        test[col] = label.fit_transform(test[col])"
   ]
  },
  {
   "cell_type": "code",
   "execution_count": 56,
   "metadata": {},
   "outputs": [],
   "source": [
    "for cols in ['ID','Gender','Age','Region_Code','Occupation',\n",
    "             'Channel_Code','Vintage','Credit_Product',\n",
    "             'Avg_Account_Balance','Is_Active']:\n",
    "    val_counts = train[cols].value_counts().to_dict()\n",
    "    train[str(cols)+'counts'] = train[cols].map(val_counts) "
   ]
  },
  {
   "cell_type": "code",
   "execution_count": 57,
   "metadata": {},
   "outputs": [],
   "source": [
    "for cols in ['ID','Gender','Age','Region_Code','Occupation',\n",
    "             'Channel_Code','Vintage','Credit_Product',\n",
    "             'Avg_Account_Balance','Is_Active']:\n",
    "    val_counts = test[cols].value_counts().to_dict()\n",
    "    test[str(cols)+'counts'] = test[cols].map(val_counts) "
   ]
  },
  {
   "cell_type": "code",
   "execution_count": 58,
   "metadata": {
    "scrolled": false
   },
   "outputs": [
    {
     "data": {
      "text/plain": [
       "Index(['ID', 'Age', 'Vintage', 'Credit_Product', 'Avg_Account_Balance',\n",
       "       'Is_Active', 'Is_Lead', 'GenderAge', 'GenderOccupation',\n",
       "       'GenderCredit_Product', 'GenderAvg_Account_Balance', 'GenderIs_Active',\n",
       "       'AgeOccupation', 'AgeAvg_Account_Balance', 'AgeIs_Active',\n",
       "       'Region_CodeOccupation', 'Region_CodeChannel_Code',\n",
       "       'Region_CodeVintage', 'Region_CodeCredit_Product',\n",
       "       'OccupationChannel_Code', 'OccupationVintage',\n",
       "       'OccupationCredit_Product', 'OccupationAvg_Account_Balance',\n",
       "       'OccupationIs_Active', 'Channel_CodeVintage',\n",
       "       'Channel_CodeCredit_Product', 'Channel_CodeAvg_Account_Balance',\n",
       "       'Channel_CodeIs_Active', 'VintageCredit_Product',\n",
       "       'VintageAvg_Account_Balance', 'VintageIs_Active',\n",
       "       'Credit_ProductAvg_Account_Balance', 'Credit_ProductIs_Active',\n",
       "       'Avg_Account_BalanceIs_Active', 'Gender_Female', 'Gender_Male',\n",
       "       'Region_Code_RG250', 'Region_Code_RG251', 'Region_Code_RG252',\n",
       "       'Region_Code_RG253', 'Region_Code_RG254', 'Region_Code_RG255',\n",
       "       'Region_Code_RG256', 'Region_Code_RG257', 'Region_Code_RG258',\n",
       "       'Region_Code_RG259', 'Region_Code_RG260', 'Region_Code_RG261',\n",
       "       'Region_Code_RG262', 'Region_Code_RG263', 'Region_Code_RG264',\n",
       "       'Region_Code_RG265', 'Region_Code_RG266', 'Region_Code_RG267',\n",
       "       'Region_Code_RG268', 'Region_Code_RG269', 'Region_Code_RG270',\n",
       "       'Region_Code_RG271', 'Region_Code_RG272', 'Region_Code_RG273',\n",
       "       'Region_Code_RG274', 'Region_Code_RG275', 'Region_Code_RG276',\n",
       "       'Region_Code_RG277', 'Region_Code_RG278', 'Region_Code_RG279',\n",
       "       'Region_Code_RG280', 'Region_Code_RG281', 'Region_Code_RG282',\n",
       "       'Region_Code_RG283', 'Region_Code_RG284', 'Occupation_Entrepreneur',\n",
       "       'Occupation_Other', 'Occupation_Salaried', 'Occupation_Self_Employed',\n",
       "       'Channel_Code_X1', 'Channel_Code_X2', 'Channel_Code_X3',\n",
       "       'Channel_Code_X4', 'Gender', 'Region_Code', 'Occupation',\n",
       "       'Channel_Code', 'IDcounts', 'Gendercounts', 'Agecounts',\n",
       "       'Region_Codecounts', 'Occupationcounts', 'Channel_Codecounts',\n",
       "       'Vintagecounts', 'Credit_Productcounts', 'Avg_Account_Balancecounts',\n",
       "       'Is_Activecounts'],\n",
       "      dtype='object')"
      ]
     },
     "execution_count": 58,
     "metadata": {},
     "output_type": "execute_result"
    }
   ],
   "source": [
    "train.columns"
   ]
  },
  {
   "cell_type": "code",
   "execution_count": 59,
   "metadata": {},
   "outputs": [],
   "source": [
    "for i in ['GenderAge', 'GenderOccupation','GenderIs_Active', \n",
    "          'AgeOccupation','AgeAvg_Account_Balance', 'AgeIs_Active',\n",
    "          'Region_CodeOccupation','Region_CodeChannel_Code',\n",
    "          'Region_CodeVintage','Region_CodeCredit_Product', \n",
    "          'OccupationChannel_Code','OccupationVintage', \n",
    "          'OccupationCredit_Product','OccupationAvg_Account_Balance', \n",
    "          'OccupationIs_Active','Channel_CodeVintage', 'Channel_CodeCredit_Product',\n",
    "          'Channel_CodeAvg_Account_Balance', 'Channel_CodeIs_Active',\n",
    "          'VintageCredit_Product', 'VintageAvg_Account_Balance',\n",
    "          'VintageIs_Active', 'Credit_ProductAvg_Account_Balance',\n",
    "          'Credit_ProductIs_Active', 'Avg_Account_BalanceIs_Active']:\n",
    "    \n",
    "    for j in ['Gender', 'Age', 'Region_Code', 'Occupation', 'Channel_Code',\n",
    "              'Vintage', 'Credit_Product', 'Avg_Account_Balance', 'Is_Active']:\n",
    "        \n",
    "        train['mean'+str(j)+'per'+str(i)] = train.groupby([j])[i].transform('mean')\n",
    "        test['mean'+str(j)+'per'+str(i)] = test.groupby([j])[i].transform('mean')\n",
    "        \n",
    "        train['std'+str(j)+'per'+str(i)] = train.groupby([j])[i].transform('sum')\n",
    "        test['std'+str(j)+'per'+str(i)] = test.groupby([j])[i].transform('sum')"
   ]
  },
  {
   "cell_type": "code",
   "execution_count": 60,
   "metadata": {},
   "outputs": [
    {
     "name": "stdout",
     "output_type": "stream",
     "text": [
      "before removing duplicates from train (245725, 543)\n",
      "before removing duplicates from test (105312, 542)\n",
      "after removing duplicates from train (245725, 543)\n",
      "after removing duplicates from test (105312, 542)\n"
     ]
    }
   ],
   "source": [
    "print('before removing duplicates from train',train.shape)\n",
    "print('before removing duplicates from test',test.shape)\n",
    "train = train[~train.index.duplicated(keep = 'first')].reset_index(drop=True)\n",
    "test = test[~test.index.duplicated(keep = 'first')].reset_index(drop=True)\n",
    "print('after removing duplicates from train',train.shape)\n",
    "print('after removing duplicates from test',test.shape)"
   ]
  },
  {
   "cell_type": "raw",
   "metadata": {},
   "source": [
    "train.to_csv('Trained.csv', index = False)\n",
    "test.to_csv('Tested.csv', index = False)"
   ]
  },
  {
   "cell_type": "code",
   "execution_count": 61,
   "metadata": {
    "scrolled": true
   },
   "outputs": [
    {
     "data": {
      "text/html": [
       "<div>\n",
       "<style scoped>\n",
       "    .dataframe tbody tr th:only-of-type {\n",
       "        vertical-align: middle;\n",
       "    }\n",
       "\n",
       "    .dataframe tbody tr th {\n",
       "        vertical-align: top;\n",
       "    }\n",
       "\n",
       "    .dataframe thead th {\n",
       "        text-align: right;\n",
       "    }\n",
       "</style>\n",
       "<table border=\"1\" class=\"dataframe\">\n",
       "  <thead>\n",
       "    <tr style=\"text-align: right;\">\n",
       "      <th></th>\n",
       "      <th>Is_Lead</th>\n",
       "    </tr>\n",
       "  </thead>\n",
       "  <tbody>\n",
       "    <tr>\n",
       "      <th>0</th>\n",
       "      <td>0</td>\n",
       "    </tr>\n",
       "    <tr>\n",
       "      <th>1</th>\n",
       "      <td>0</td>\n",
       "    </tr>\n",
       "    <tr>\n",
       "      <th>2</th>\n",
       "      <td>0</td>\n",
       "    </tr>\n",
       "    <tr>\n",
       "      <th>3</th>\n",
       "      <td>0</td>\n",
       "    </tr>\n",
       "    <tr>\n",
       "      <th>4</th>\n",
       "      <td>0</td>\n",
       "    </tr>\n",
       "  </tbody>\n",
       "</table>\n",
       "</div>"
      ],
      "text/plain": [
       "   Is_Lead\n",
       "0        0\n",
       "1        0\n",
       "2        0\n",
       "3        0\n",
       "4        0"
      ]
     },
     "execution_count": 61,
     "metadata": {},
     "output_type": "execute_result"
    }
   ],
   "source": [
    "X = train.drop(['Is_Lead'], axis = 1)\n",
    "y = train[['Is_Lead']]\n",
    "y.head()"
   ]
  },
  {
   "cell_type": "code",
   "execution_count": 62,
   "metadata": {},
   "outputs": [],
   "source": [
    "X_train, X_test, y_train, y_test = train_test_split(X, y, test_size = 0.2, random_state = 19278, stratify = y)"
   ]
  },
  {
   "cell_type": "code",
   "execution_count": 63,
   "metadata": {},
   "outputs": [],
   "source": [
    "X_train = Ss.fit_transform(X_train)\n",
    "X_test  = Ss.fit_transform(X_test)"
   ]
  },
  {
   "cell_type": "code",
   "execution_count": 64,
   "metadata": {},
   "outputs": [],
   "source": [
    "rmse_list = []\n",
    "accuracy_ist = []\n",
    "f1_scores = []"
   ]
  },
  {
   "cell_type": "code",
   "execution_count": 65,
   "metadata": {},
   "outputs": [],
   "source": [
    "from sklearn.linear_model import LogisticRegression\n",
    "from sklearn.neighbors import KNeighborsClassifier\n",
    "from sklearn.naive_bayes import GaussianNB\n",
    "from sklearn.svm import SVC\n",
    "from sklearn.tree import DecisionTreeClassifier\n",
    "from sklearn.ensemble import RandomForestClassifier\n",
    "from sklearn.ensemble import BaggingClassifier\n",
    "from sklearn.ensemble import GradientBoostingClassifier\n",
    "from xgboost import XGBClassifier\n",
    "from sklearn.linear_model import SGDClassifier\n",
    "from sklearn.ensemble import AdaBoostClassifier\n",
    "\n",
    "\n",
    "\n",
    "\n",
    "\n",
    "log = LogisticRegression()\n",
    "KNN = KNeighborsClassifier()\n",
    "NB = GaussianNB() \n",
    "SVM = SVC()\n",
    "DT = DecisionTreeClassifier(criterion='gini', splitter='random', \n",
    "                           max_depth=5000, min_samples_split=25, min_samples_leaf=15, \n",
    "                           min_weight_fraction_leaf=0.0, max_features=None, \n",
    "                           random_state=645, max_leaf_nodes=None, \n",
    "                           min_impurity_decrease=0, min_impurity_split=None, \n",
    "                           ccp_alpha=0)\n",
    "RF = RandomForestClassifier(n_estimators=5000, criterion='gini', max_depth=None, \n",
    "                             min_samples_split=25, min_samples_leaf=15, min_weight_fraction_leaf=0.0, \n",
    "                             max_features='log2', max_leaf_nodes=None, min_impurity_decrease=0.0, \n",
    "                             min_impurity_split=None, bootstrap=True, oob_score=False, n_jobs=-1, \n",
    "                             random_state=645, verbose=0, warm_start=False, \n",
    "                             ccp_alpha=0.0, max_samples=None)\n",
    "\n",
    "BC = BaggingClassifier(base_estimator = DT, n_estimators = 80)\n",
    "GBR = GradientBoostingClassifier()\n",
    "xgb = XGBClassifier()\n",
    "SGD = SGDClassifier()\n",
    "ADC = AdaBoostClassifier()"
   ]
  },
  {
   "cell_type": "code",
   "execution_count": 32,
   "metadata": {},
   "outputs": [
    {
     "name": "stdout",
     "output_type": "stream",
     "text": [
      "MSE:      0.2151388747583681\n",
      "rmse is:     0.46383065310344473\n",
      "f1_score is:      0.31729837928585264\n"
     ]
    }
   ],
   "source": [
    "log.fit(X_train, y_train)\n",
    "y_pred = log.predict(X_test)\n",
    "MSE = metrics.mean_squared_error(y_test,y_pred)\n",
    "print('MSE:     ', MSE)\n",
    "rmse2 = np.sqrt(MSE)\n",
    "print('rmse is:    ',rmse2)\n",
    "f1_score2 = f1_score(y_test, y_pred)\n",
    "print(\"f1_score is:     \", f1_score2)"
   ]
  },
  {
   "cell_type": "code",
   "execution_count": 33,
   "metadata": {},
   "outputs": [
    {
     "name": "stdout",
     "output_type": "stream",
     "text": [
      "MSE:      0.2357106521517957\n",
      "rmse is:     0.4855004141623318\n",
      "f1_score is:      0.3992947521261149\n"
     ]
    }
   ],
   "source": [
    "KNN.fit(X_train, y_train)\n",
    "y_pred = KNN.predict(X_test)\n",
    "MSE = metrics.mean_squared_error(y_test,y_pred)\n",
    "print('MSE:     ', MSE)\n",
    "rmse3 = np.sqrt(MSE)\n",
    "print('rmse is:    ',rmse3)\n",
    "f1_score3 = f1_score(y_test, y_pred)\n",
    "print(\"f1_score is:     \", f1_score3)"
   ]
  },
  {
   "cell_type": "raw",
   "metadata": {},
   "source": [
    "NB.fit(X_train, y_train)\n",
    "y_pred = NB.predict(X_test)\n",
    "MSE = metrics.mean_squared_error(y_test,y_pred)\n",
    "print('MSE:     ', MSE)\n",
    "rmse4 = np.sqrt(MSE)\n",
    "print('rmse is:    ',rmse4)\n",
    "f1_score4 = f1_score(y_test, y_pred)\n",
    "print(\"f1_score is:     \", f1_score4)"
   ]
  },
  {
   "cell_type": "raw",
   "metadata": {},
   "source": [
    "SVM.fit(X_train, y_train)\n",
    "y_pred = SVM.predict(X_test)\n",
    "MSE = metrics.mean_squared_error(y_test,y_pred)\n",
    "print('MSE:     ', MSE)\n",
    "rmse5 = np.sqrt(MSE)\n",
    "print('rmse is:    ',rmse5)\n",
    "f1_score5 = f1_score(y_test, y_pred)\n",
    "print(\"f1_score is:     \", f1_score5)"
   ]
  },
  {
   "cell_type": "code",
   "execution_count": 34,
   "metadata": {},
   "outputs": [
    {
     "name": "stdout",
     "output_type": "stream",
     "text": [
      "MSE:      0.23371655305727948\n",
      "rmse is:     0.4834423989031987\n",
      "f1_score is:      0.4130812468063362\n"
     ]
    }
   ],
   "source": [
    "DT.fit(X_train, y_train)\n",
    "y_pred = DT.predict(X_test)\n",
    "MSE = metrics.mean_squared_error(y_test,y_pred)\n",
    "print('MSE:     ', MSE)\n",
    "rmse6 = np.sqrt(MSE)\n",
    "print('rmse is:    ',rmse6)\n",
    "f1_score6 = f1_score(y_test, y_pred)\n",
    "print(\"f1_score is:     \", f1_score6)"
   ]
  },
  {
   "cell_type": "code",
   "execution_count": 35,
   "metadata": {},
   "outputs": [
    {
     "name": "stdout",
     "output_type": "stream",
     "text": [
      "MSE:      0.20834265947705768\n",
      "rmse is:     0.4564456807518915\n",
      "f1_score is:      0.3826349110642147\n"
     ]
    }
   ],
   "source": [
    "RF.fit(X_train, y_train)\n",
    "y_pred = RF.predict(X_test)\n",
    "MSE = metrics.mean_squared_error(y_test,y_pred)\n",
    "print('MSE:     ', MSE)\n",
    "rmse7 = np.sqrt(MSE)\n",
    "print('rmse is:    ',rmse7)\n",
    "f1_score7 = f1_score(y_test, y_pred)\n",
    "print(\"f1_score is:     \", f1_score7)"
   ]
  },
  {
   "cell_type": "raw",
   "metadata": {},
   "source": [
    "Algo_names = ['log2','KNN3', 'DT6',' Rf7, ]"
   ]
  },
  {
   "cell_type": "raw",
   "metadata": {},
   "source": [
    "BC.fit(X_train, y_train)\n",
    "y_pred = BC.predict(X_test)\n",
    "MSE = metrics.mean_squared_error(y_test,y_pred)\n",
    "print('MSE:     ', MSE)\n",
    "rmse8 = np.sqrt(MSE)\n",
    "print('rmse is:    ',rmse8)\n",
    "f1_score8 = f1_score(y_test, y_pred)\n",
    "print(\"f1_score is:     \", f1_score8)"
   ]
  },
  {
   "cell_type": "code",
   "execution_count": null,
   "metadata": {},
   "outputs": [],
   "source": [
    "GBR.fit(X_train, y_train)\n",
    "y_pred = GBR.predict(X_test)\n",
    "MSE = metrics.mean_squared_error(y_test,y_pred)\n",
    "print('MSE:     ', MSE)\n",
    "rmse9 = np.sqrt(MSE)\n",
    "print('rmse is:    ',rmse9)\n",
    "f1_score9 = f1_score(y_test, y_pred)\n",
    "print(\"f1_score is:     \", f1_score9)"
   ]
  },
  {
   "cell_type": "code",
   "execution_count": null,
   "metadata": {},
   "outputs": [],
   "source": [
    "xgb.fit(X_train, y_train)\n",
    "y_pred = xgb.predict(X_test)\n",
    "MSE = metrics.mean_squared_error(y_test,y_pred)\n",
    "print('MSE:     ', MSE)\n",
    "rmse10 = np.sqrt(MSE)\n",
    "print('rmse is:    ',rmse10)\n",
    "f1_score10 = f1_score(y_test, y_pred)\n",
    "print(\"f1_score is:     \", f1_score10)"
   ]
  },
  {
   "cell_type": "code",
   "execution_count": null,
   "metadata": {},
   "outputs": [],
   "source": [
    "SGD.fit(X_train, y_train)\n",
    "y_pred = SGD.predict(X_test)\n",
    "MSE = metrics.mean_squared_error(y_test,y_pred)\n",
    "print('MSE:     ', MSE)\n",
    "rmse11 = np.sqrt(MSE)\n",
    "print('rmse is:    ',rmse11)\n",
    "f1_score11 = f1_score(y_test, y_pred)\n",
    "print(\"f1_score is:     \", f1_score11)"
   ]
  },
  {
   "cell_type": "code",
   "execution_count": null,
   "metadata": {},
   "outputs": [],
   "source": [
    "ADC.fit(X_train, y_train)\n",
    "y_pred = ADC.predict(X_test)\n",
    "MSE = metrics.mean_squared_error(y_test,y_pred)\n",
    "print('MSE:     ', MSE)\n",
    "rmse12 = np.sqrt(MSE)\n",
    "print('rmse is:    ',rmse12)\n",
    "f1_score12 = f1_score(y_test, y_pred)\n",
    "print(\"f1_score is:     \", f1_score12)"
   ]
  },
  {
   "cell_type": "code",
   "execution_count": null,
   "metadata": {},
   "outputs": [],
   "source": [
    "f1_scores = [f1_score2,f1_score3,f1_score4,f1_score5,f1_score6,f1_score7,f1_score8,\n",
    "             f1_score9,f1_score10,f1_score11,f1_score12]\n",
    "\n",
    "rmse_list = [rmse2,rmse3,rmse4,rmse5,rmse6,rmse7,rmse8,rmse9,rmse10,rmse11,rmse12]"
   ]
  },
  {
   "cell_type": "code",
   "execution_count": null,
   "metadata": {},
   "outputs": [],
   "source": [
    "evaluation = pd.DataFrame({'Model': Algo_names,'f1_score' : f1_scores, 'RMSE': rmse_list})\n",
    "evaluation.sort_values(by = 'f1_score', ascending = False)"
   ]
  },
  {
   "cell_type": "code",
   "execution_count": null,
   "metadata": {},
   "outputs": [],
   "source": [
    "submission = pd.read_csv('sample.csv')\n",
    "model = RF\n",
    "model.fit(X_train, y_train)\n",
    "pred = model.predict(test)\n",
    "Pred1 = np.where(pred > 0.5, \"Yes\", \"No\")\n",
    "submission['Prediction'] = Pred1\n",
    "submission.to_csv('RF72%model.csv', index = False)"
   ]
  },
  {
   "cell_type": "code",
   "execution_count": null,
   "metadata": {},
   "outputs": [],
   "source": []
  },
  {
   "cell_type": "code",
   "execution_count": null,
   "metadata": {},
   "outputs": [],
   "source": []
  },
  {
   "cell_type": "code",
   "execution_count": null,
   "metadata": {},
   "outputs": [],
   "source": []
  },
  {
   "cell_type": "code",
   "execution_count": null,
   "metadata": {},
   "outputs": [],
   "source": []
  },
  {
   "cell_type": "code",
   "execution_count": null,
   "metadata": {},
   "outputs": [],
   "source": []
  },
  {
   "cell_type": "code",
   "execution_count": null,
   "metadata": {},
   "outputs": [],
   "source": []
  },
  {
   "cell_type": "code",
   "execution_count": null,
   "metadata": {},
   "outputs": [],
   "source": []
  },
  {
   "cell_type": "code",
   "execution_count": null,
   "metadata": {},
   "outputs": [],
   "source": []
  },
  {
   "cell_type": "code",
   "execution_count": null,
   "metadata": {},
   "outputs": [],
   "source": []
  },
  {
   "cell_type": "raw",
   "metadata": {},
   "source": [
    "from sklearn.model_selection import cross_val_score\n",
    "accuracies = cross_val_score(estimator = xgboost, X = X_train, y = y_train, cv = 10)\n",
    "print(\"Accuracy:{:.2f} %\".format(accuracies.mean()*100))\n",
    "print(\"Standard Deviation:{:.2f} %\".format(accuracies.std()*100))"
   ]
  },
  {
   "cell_type": "raw",
   "metadata": {},
   "source": [
    "submission = pd.read_csv('sample_submission_eyYijxG.csv')\n",
    "\n",
    "y_pred1 = y_pred.astype(int)\n",
    "submission['Is_Lead'] = y_pred\n",
    "submission['Is_Lead'] = submission['Is_Lead'].apply(lambda x: 0 if x<0 else x)\n",
    "submission.to_csv('GBR_submission.csv', index = False)"
   ]
  },
  {
   "cell_type": "raw",
   "metadata": {},
   "source": [
    "from catboost import CatBoostRegressor\n",
    "catboost = CatBoostRegressor() \n",
    "catboost.fit(X_train, y_train)\n",
    "y_pred = catboost.predict(X_test)\n",
    "#cm = confusion_matrix(y_test, y_pred)\n",
    "#print(cm)\n",
    "#accuracy_score(y_test, y_pred)\n",
    "#accuracy_ist.append(accuracy_score)\n",
    "MSE = metrics.mean_squared_error(y_test,y_pred)\n",
    "print(MSE)\n",
    "rmse = np.sqrt(MSE)\n",
    "print(rmse)\n",
    "rmse_list.append(rmse)\n",
    "\n",
    "from sklearn.model_selection import cross_val_score\n",
    "accuracies = cross_val_score(estimator = catboost, X = X_train, y = y_train, cv = 10)\n",
    "print(\"Accuracy:{:.2f} %\".format(accuracies.mean()*100))\n",
    "print(\"Standard Deviation:{:.2f} %\".format(accuracies.std()*100))"
   ]
  },
  {
   "cell_type": "code",
   "execution_count": null,
   "metadata": {},
   "outputs": [],
   "source": []
  }
 ],
 "metadata": {
  "kernelspec": {
   "display_name": "Python 3",
   "language": "python",
   "name": "python3"
  },
  "language_info": {
   "codemirror_mode": {
    "name": "ipython",
    "version": 3
   },
   "file_extension": ".py",
   "mimetype": "text/x-python",
   "name": "python",
   "nbconvert_exporter": "python",
   "pygments_lexer": "ipython3",
   "version": "3.8.3"
  }
 },
 "nbformat": 4,
 "nbformat_minor": 4
}

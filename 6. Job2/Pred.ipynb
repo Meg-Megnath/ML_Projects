{
 "cells": [
  {
   "cell_type": "code",
   "execution_count": 1,
   "metadata": {},
   "outputs": [],
   "source": [
    "import pandas as pd\n",
    "import numpy as np\n",
    "import matplotlib.pyplot as plt\n",
    "import seaborn as sns\n",
    "\n",
    "\n",
    "from sklearn.preprocessing import LabelEncoder\n",
    "label = LabelEncoder()\n",
    "from sklearn.model_selection import train_test_split\n",
    "from sklearn import metrics\n",
    "from sklearn.metrics import accuracy_score, f1_score\n",
    "\n",
    "\n",
    "import warnings\n",
    "warnings.filterwarnings('ignore')"
   ]
  },
  {
   "cell_type": "code",
   "execution_count": 2,
   "metadata": {},
   "outputs": [],
   "source": [
    "train = pd.read_csv('train_s3TEQDk.csv')\n",
    "test = pd.read_csv('test_mSzZ8RL.csv')"
   ]
  },
  {
   "cell_type": "code",
   "execution_count": 3,
   "metadata": {},
   "outputs": [
    {
     "data": {
      "text/plain": [
       "(245725, 11)"
      ]
     },
     "execution_count": 3,
     "metadata": {},
     "output_type": "execute_result"
    }
   ],
   "source": [
    "train.shape"
   ]
  },
  {
   "cell_type": "code",
   "execution_count": 4,
   "metadata": {},
   "outputs": [
    {
     "data": {
      "text/plain": [
       "Index(['ID', 'Gender', 'Age', 'Region_Code', 'Occupation', 'Channel_Code',\n",
       "       'Vintage', 'Credit_Product', 'Avg_Account_Balance', 'Is_Active',\n",
       "       'Is_Lead'],\n",
       "      dtype='object')"
      ]
     },
     "execution_count": 4,
     "metadata": {},
     "output_type": "execute_result"
    }
   ],
   "source": [
    "train.columns"
   ]
  },
  {
   "cell_type": "code",
   "execution_count": 5,
   "metadata": {},
   "outputs": [
    {
     "name": "stdout",
     "output_type": "stream",
     "text": [
      "<class 'pandas.core.frame.DataFrame'>\n",
      "RangeIndex: 245725 entries, 0 to 245724\n",
      "Data columns (total 11 columns):\n",
      " #   Column               Non-Null Count   Dtype \n",
      "---  ------               --------------   ----- \n",
      " 0   ID                   245725 non-null  object\n",
      " 1   Gender               245725 non-null  object\n",
      " 2   Age                  245725 non-null  int64 \n",
      " 3   Region_Code          245725 non-null  object\n",
      " 4   Occupation           245725 non-null  object\n",
      " 5   Channel_Code         245725 non-null  object\n",
      " 6   Vintage              245725 non-null  int64 \n",
      " 7   Credit_Product       216400 non-null  object\n",
      " 8   Avg_Account_Balance  245725 non-null  int64 \n",
      " 9   Is_Active            245725 non-null  object\n",
      " 10  Is_Lead              245725 non-null  int64 \n",
      "dtypes: int64(4), object(7)\n",
      "memory usage: 20.6+ MB\n"
     ]
    }
   ],
   "source": [
    "train.info()"
   ]
  },
  {
   "cell_type": "code",
   "execution_count": 6,
   "metadata": {},
   "outputs": [
    {
     "data": {
      "text/html": [
       "<div>\n",
       "<style scoped>\n",
       "    .dataframe tbody tr th:only-of-type {\n",
       "        vertical-align: middle;\n",
       "    }\n",
       "\n",
       "    .dataframe tbody tr th {\n",
       "        vertical-align: top;\n",
       "    }\n",
       "\n",
       "    .dataframe thead th {\n",
       "        text-align: right;\n",
       "    }\n",
       "</style>\n",
       "<table border=\"1\" class=\"dataframe\">\n",
       "  <thead>\n",
       "    <tr style=\"text-align: right;\">\n",
       "      <th></th>\n",
       "      <th>ID</th>\n",
       "      <th>Gender</th>\n",
       "      <th>Age</th>\n",
       "      <th>Region_Code</th>\n",
       "      <th>Occupation</th>\n",
       "      <th>Channel_Code</th>\n",
       "      <th>Vintage</th>\n",
       "      <th>Credit_Product</th>\n",
       "      <th>Avg_Account_Balance</th>\n",
       "      <th>Is_Active</th>\n",
       "      <th>Is_Lead</th>\n",
       "    </tr>\n",
       "  </thead>\n",
       "  <tbody>\n",
       "    <tr>\n",
       "      <th>count</th>\n",
       "      <td>245725</td>\n",
       "      <td>245725</td>\n",
       "      <td>245725.000000</td>\n",
       "      <td>245725</td>\n",
       "      <td>245725</td>\n",
       "      <td>245725</td>\n",
       "      <td>245725.000000</td>\n",
       "      <td>216400</td>\n",
       "      <td>2.457250e+05</td>\n",
       "      <td>245725</td>\n",
       "      <td>245725.000000</td>\n",
       "    </tr>\n",
       "    <tr>\n",
       "      <th>unique</th>\n",
       "      <td>245725</td>\n",
       "      <td>2</td>\n",
       "      <td>NaN</td>\n",
       "      <td>35</td>\n",
       "      <td>4</td>\n",
       "      <td>4</td>\n",
       "      <td>NaN</td>\n",
       "      <td>2</td>\n",
       "      <td>NaN</td>\n",
       "      <td>2</td>\n",
       "      <td>NaN</td>\n",
       "    </tr>\n",
       "    <tr>\n",
       "      <th>top</th>\n",
       "      <td>KV3ZPFSW</td>\n",
       "      <td>Male</td>\n",
       "      <td>NaN</td>\n",
       "      <td>RG268</td>\n",
       "      <td>Self_Employed</td>\n",
       "      <td>X1</td>\n",
       "      <td>NaN</td>\n",
       "      <td>No</td>\n",
       "      <td>NaN</td>\n",
       "      <td>No</td>\n",
       "      <td>NaN</td>\n",
       "    </tr>\n",
       "    <tr>\n",
       "      <th>freq</th>\n",
       "      <td>1</td>\n",
       "      <td>134197</td>\n",
       "      <td>NaN</td>\n",
       "      <td>35934</td>\n",
       "      <td>100886</td>\n",
       "      <td>103718</td>\n",
       "      <td>NaN</td>\n",
       "      <td>144357</td>\n",
       "      <td>NaN</td>\n",
       "      <td>150290</td>\n",
       "      <td>NaN</td>\n",
       "    </tr>\n",
       "    <tr>\n",
       "      <th>mean</th>\n",
       "      <td>NaN</td>\n",
       "      <td>NaN</td>\n",
       "      <td>43.856307</td>\n",
       "      <td>NaN</td>\n",
       "      <td>NaN</td>\n",
       "      <td>NaN</td>\n",
       "      <td>46.959141</td>\n",
       "      <td>NaN</td>\n",
       "      <td>1.128403e+06</td>\n",
       "      <td>NaN</td>\n",
       "      <td>0.237208</td>\n",
       "    </tr>\n",
       "    <tr>\n",
       "      <th>std</th>\n",
       "      <td>NaN</td>\n",
       "      <td>NaN</td>\n",
       "      <td>14.828672</td>\n",
       "      <td>NaN</td>\n",
       "      <td>NaN</td>\n",
       "      <td>NaN</td>\n",
       "      <td>32.353136</td>\n",
       "      <td>NaN</td>\n",
       "      <td>8.529364e+05</td>\n",
       "      <td>NaN</td>\n",
       "      <td>0.425372</td>\n",
       "    </tr>\n",
       "    <tr>\n",
       "      <th>min</th>\n",
       "      <td>NaN</td>\n",
       "      <td>NaN</td>\n",
       "      <td>23.000000</td>\n",
       "      <td>NaN</td>\n",
       "      <td>NaN</td>\n",
       "      <td>NaN</td>\n",
       "      <td>7.000000</td>\n",
       "      <td>NaN</td>\n",
       "      <td>2.079000e+04</td>\n",
       "      <td>NaN</td>\n",
       "      <td>0.000000</td>\n",
       "    </tr>\n",
       "    <tr>\n",
       "      <th>25%</th>\n",
       "      <td>NaN</td>\n",
       "      <td>NaN</td>\n",
       "      <td>30.000000</td>\n",
       "      <td>NaN</td>\n",
       "      <td>NaN</td>\n",
       "      <td>NaN</td>\n",
       "      <td>20.000000</td>\n",
       "      <td>NaN</td>\n",
       "      <td>6.043100e+05</td>\n",
       "      <td>NaN</td>\n",
       "      <td>0.000000</td>\n",
       "    </tr>\n",
       "    <tr>\n",
       "      <th>50%</th>\n",
       "      <td>NaN</td>\n",
       "      <td>NaN</td>\n",
       "      <td>43.000000</td>\n",
       "      <td>NaN</td>\n",
       "      <td>NaN</td>\n",
       "      <td>NaN</td>\n",
       "      <td>32.000000</td>\n",
       "      <td>NaN</td>\n",
       "      <td>8.946010e+05</td>\n",
       "      <td>NaN</td>\n",
       "      <td>0.000000</td>\n",
       "    </tr>\n",
       "    <tr>\n",
       "      <th>75%</th>\n",
       "      <td>NaN</td>\n",
       "      <td>NaN</td>\n",
       "      <td>54.000000</td>\n",
       "      <td>NaN</td>\n",
       "      <td>NaN</td>\n",
       "      <td>NaN</td>\n",
       "      <td>73.000000</td>\n",
       "      <td>NaN</td>\n",
       "      <td>1.366666e+06</td>\n",
       "      <td>NaN</td>\n",
       "      <td>0.000000</td>\n",
       "    </tr>\n",
       "    <tr>\n",
       "      <th>max</th>\n",
       "      <td>NaN</td>\n",
       "      <td>NaN</td>\n",
       "      <td>85.000000</td>\n",
       "      <td>NaN</td>\n",
       "      <td>NaN</td>\n",
       "      <td>NaN</td>\n",
       "      <td>135.000000</td>\n",
       "      <td>NaN</td>\n",
       "      <td>1.035201e+07</td>\n",
       "      <td>NaN</td>\n",
       "      <td>1.000000</td>\n",
       "    </tr>\n",
       "  </tbody>\n",
       "</table>\n",
       "</div>"
      ],
      "text/plain": [
       "              ID  Gender            Age Region_Code     Occupation  \\\n",
       "count     245725  245725  245725.000000      245725         245725   \n",
       "unique    245725       2            NaN          35              4   \n",
       "top     KV3ZPFSW    Male            NaN       RG268  Self_Employed   \n",
       "freq           1  134197            NaN       35934         100886   \n",
       "mean         NaN     NaN      43.856307         NaN            NaN   \n",
       "std          NaN     NaN      14.828672         NaN            NaN   \n",
       "min          NaN     NaN      23.000000         NaN            NaN   \n",
       "25%          NaN     NaN      30.000000         NaN            NaN   \n",
       "50%          NaN     NaN      43.000000         NaN            NaN   \n",
       "75%          NaN     NaN      54.000000         NaN            NaN   \n",
       "max          NaN     NaN      85.000000         NaN            NaN   \n",
       "\n",
       "       Channel_Code        Vintage Credit_Product  Avg_Account_Balance  \\\n",
       "count        245725  245725.000000         216400         2.457250e+05   \n",
       "unique            4            NaN              2                  NaN   \n",
       "top              X1            NaN             No                  NaN   \n",
       "freq         103718            NaN         144357                  NaN   \n",
       "mean            NaN      46.959141            NaN         1.128403e+06   \n",
       "std             NaN      32.353136            NaN         8.529364e+05   \n",
       "min             NaN       7.000000            NaN         2.079000e+04   \n",
       "25%             NaN      20.000000            NaN         6.043100e+05   \n",
       "50%             NaN      32.000000            NaN         8.946010e+05   \n",
       "75%             NaN      73.000000            NaN         1.366666e+06   \n",
       "max             NaN     135.000000            NaN         1.035201e+07   \n",
       "\n",
       "       Is_Active        Is_Lead  \n",
       "count     245725  245725.000000  \n",
       "unique         2            NaN  \n",
       "top           No            NaN  \n",
       "freq      150290            NaN  \n",
       "mean         NaN       0.237208  \n",
       "std          NaN       0.425372  \n",
       "min          NaN       0.000000  \n",
       "25%          NaN       0.000000  \n",
       "50%          NaN       0.000000  \n",
       "75%          NaN       0.000000  \n",
       "max          NaN       1.000000  "
      ]
     },
     "execution_count": 6,
     "metadata": {},
     "output_type": "execute_result"
    }
   ],
   "source": [
    "train.describe(include = 'all')"
   ]
  },
  {
   "cell_type": "code",
   "execution_count": 7,
   "metadata": {},
   "outputs": [
    {
     "data": {
      "text/plain": [
       "(105312, 10)"
      ]
     },
     "execution_count": 7,
     "metadata": {},
     "output_type": "execute_result"
    }
   ],
   "source": [
    "test.shape"
   ]
  },
  {
   "cell_type": "code",
   "execution_count": 8,
   "metadata": {},
   "outputs": [
    {
     "data": {
      "text/plain": [
       "Index(['ID', 'Gender', 'Age', 'Region_Code', 'Occupation', 'Channel_Code',\n",
       "       'Vintage', 'Credit_Product', 'Avg_Account_Balance', 'Is_Active'],\n",
       "      dtype='object')"
      ]
     },
     "execution_count": 8,
     "metadata": {},
     "output_type": "execute_result"
    }
   ],
   "source": [
    "test.columns"
   ]
  },
  {
   "cell_type": "code",
   "execution_count": 9,
   "metadata": {},
   "outputs": [
    {
     "name": "stdout",
     "output_type": "stream",
     "text": [
      "<class 'pandas.core.frame.DataFrame'>\n",
      "RangeIndex: 105312 entries, 0 to 105311\n",
      "Data columns (total 10 columns):\n",
      " #   Column               Non-Null Count   Dtype \n",
      "---  ------               --------------   ----- \n",
      " 0   ID                   105312 non-null  object\n",
      " 1   Gender               105312 non-null  object\n",
      " 2   Age                  105312 non-null  int64 \n",
      " 3   Region_Code          105312 non-null  object\n",
      " 4   Occupation           105312 non-null  object\n",
      " 5   Channel_Code         105312 non-null  object\n",
      " 6   Vintage              105312 non-null  int64 \n",
      " 7   Credit_Product       92790 non-null   object\n",
      " 8   Avg_Account_Balance  105312 non-null  int64 \n",
      " 9   Is_Active            105312 non-null  object\n",
      "dtypes: int64(3), object(7)\n",
      "memory usage: 8.0+ MB\n"
     ]
    }
   ],
   "source": [
    "test.info()"
   ]
  },
  {
   "cell_type": "code",
   "execution_count": 10,
   "metadata": {},
   "outputs": [
    {
     "data": {
      "text/html": [
       "<div>\n",
       "<style scoped>\n",
       "    .dataframe tbody tr th:only-of-type {\n",
       "        vertical-align: middle;\n",
       "    }\n",
       "\n",
       "    .dataframe tbody tr th {\n",
       "        vertical-align: top;\n",
       "    }\n",
       "\n",
       "    .dataframe thead th {\n",
       "        text-align: right;\n",
       "    }\n",
       "</style>\n",
       "<table border=\"1\" class=\"dataframe\">\n",
       "  <thead>\n",
       "    <tr style=\"text-align: right;\">\n",
       "      <th></th>\n",
       "      <th>ID</th>\n",
       "      <th>Gender</th>\n",
       "      <th>Age</th>\n",
       "      <th>Region_Code</th>\n",
       "      <th>Occupation</th>\n",
       "      <th>Channel_Code</th>\n",
       "      <th>Vintage</th>\n",
       "      <th>Credit_Product</th>\n",
       "      <th>Avg_Account_Balance</th>\n",
       "      <th>Is_Active</th>\n",
       "    </tr>\n",
       "  </thead>\n",
       "  <tbody>\n",
       "    <tr>\n",
       "      <th>count</th>\n",
       "      <td>105312</td>\n",
       "      <td>105312</td>\n",
       "      <td>105312.000000</td>\n",
       "      <td>105312</td>\n",
       "      <td>105312</td>\n",
       "      <td>105312</td>\n",
       "      <td>105312.000000</td>\n",
       "      <td>92790</td>\n",
       "      <td>1.053120e+05</td>\n",
       "      <td>105312</td>\n",
       "    </tr>\n",
       "    <tr>\n",
       "      <th>unique</th>\n",
       "      <td>105312</td>\n",
       "      <td>2</td>\n",
       "      <td>NaN</td>\n",
       "      <td>35</td>\n",
       "      <td>4</td>\n",
       "      <td>4</td>\n",
       "      <td>NaN</td>\n",
       "      <td>2</td>\n",
       "      <td>NaN</td>\n",
       "      <td>2</td>\n",
       "    </tr>\n",
       "    <tr>\n",
       "      <th>top</th>\n",
       "      <td>KUGDIDYB</td>\n",
       "      <td>Male</td>\n",
       "      <td>NaN</td>\n",
       "      <td>RG268</td>\n",
       "      <td>Self_Employed</td>\n",
       "      <td>X1</td>\n",
       "      <td>NaN</td>\n",
       "      <td>No</td>\n",
       "      <td>NaN</td>\n",
       "      <td>No</td>\n",
       "    </tr>\n",
       "    <tr>\n",
       "      <th>freq</th>\n",
       "      <td>1</td>\n",
       "      <td>57705</td>\n",
       "      <td>NaN</td>\n",
       "      <td>15125</td>\n",
       "      <td>43192</td>\n",
       "      <td>44484</td>\n",
       "      <td>NaN</td>\n",
       "      <td>61608</td>\n",
       "      <td>NaN</td>\n",
       "      <td>63797</td>\n",
       "    </tr>\n",
       "    <tr>\n",
       "      <th>mean</th>\n",
       "      <td>NaN</td>\n",
       "      <td>NaN</td>\n",
       "      <td>43.871002</td>\n",
       "      <td>NaN</td>\n",
       "      <td>NaN</td>\n",
       "      <td>NaN</td>\n",
       "      <td>46.842819</td>\n",
       "      <td>NaN</td>\n",
       "      <td>1.134195e+06</td>\n",
       "      <td>NaN</td>\n",
       "    </tr>\n",
       "    <tr>\n",
       "      <th>std</th>\n",
       "      <td>NaN</td>\n",
       "      <td>NaN</td>\n",
       "      <td>14.872890</td>\n",
       "      <td>NaN</td>\n",
       "      <td>NaN</td>\n",
       "      <td>NaN</td>\n",
       "      <td>32.273634</td>\n",
       "      <td>NaN</td>\n",
       "      <td>8.662430e+05</td>\n",
       "      <td>NaN</td>\n",
       "    </tr>\n",
       "    <tr>\n",
       "      <th>min</th>\n",
       "      <td>NaN</td>\n",
       "      <td>NaN</td>\n",
       "      <td>24.000000</td>\n",
       "      <td>NaN</td>\n",
       "      <td>NaN</td>\n",
       "      <td>NaN</td>\n",
       "      <td>7.000000</td>\n",
       "      <td>NaN</td>\n",
       "      <td>2.259700e+04</td>\n",
       "      <td>NaN</td>\n",
       "    </tr>\n",
       "    <tr>\n",
       "      <th>25%</th>\n",
       "      <td>NaN</td>\n",
       "      <td>NaN</td>\n",
       "      <td>30.000000</td>\n",
       "      <td>NaN</td>\n",
       "      <td>NaN</td>\n",
       "      <td>NaN</td>\n",
       "      <td>20.000000</td>\n",
       "      <td>NaN</td>\n",
       "      <td>6.039822e+05</td>\n",
       "      <td>NaN</td>\n",
       "    </tr>\n",
       "    <tr>\n",
       "      <th>50%</th>\n",
       "      <td>NaN</td>\n",
       "      <td>NaN</td>\n",
       "      <td>43.000000</td>\n",
       "      <td>NaN</td>\n",
       "      <td>NaN</td>\n",
       "      <td>NaN</td>\n",
       "      <td>32.000000</td>\n",
       "      <td>NaN</td>\n",
       "      <td>8.966345e+05</td>\n",
       "      <td>NaN</td>\n",
       "    </tr>\n",
       "    <tr>\n",
       "      <th>75%</th>\n",
       "      <td>NaN</td>\n",
       "      <td>NaN</td>\n",
       "      <td>54.000000</td>\n",
       "      <td>NaN</td>\n",
       "      <td>NaN</td>\n",
       "      <td>NaN</td>\n",
       "      <td>73.000000</td>\n",
       "      <td>NaN</td>\n",
       "      <td>1.371598e+06</td>\n",
       "      <td>NaN</td>\n",
       "    </tr>\n",
       "    <tr>\n",
       "      <th>max</th>\n",
       "      <td>NaN</td>\n",
       "      <td>NaN</td>\n",
       "      <td>85.000000</td>\n",
       "      <td>NaN</td>\n",
       "      <td>NaN</td>\n",
       "      <td>NaN</td>\n",
       "      <td>135.000000</td>\n",
       "      <td>NaN</td>\n",
       "      <td>9.908858e+06</td>\n",
       "      <td>NaN</td>\n",
       "    </tr>\n",
       "  </tbody>\n",
       "</table>\n",
       "</div>"
      ],
      "text/plain": [
       "              ID  Gender            Age Region_Code     Occupation  \\\n",
       "count     105312  105312  105312.000000      105312         105312   \n",
       "unique    105312       2            NaN          35              4   \n",
       "top     KUGDIDYB    Male            NaN       RG268  Self_Employed   \n",
       "freq           1   57705            NaN       15125          43192   \n",
       "mean         NaN     NaN      43.871002         NaN            NaN   \n",
       "std          NaN     NaN      14.872890         NaN            NaN   \n",
       "min          NaN     NaN      24.000000         NaN            NaN   \n",
       "25%          NaN     NaN      30.000000         NaN            NaN   \n",
       "50%          NaN     NaN      43.000000         NaN            NaN   \n",
       "75%          NaN     NaN      54.000000         NaN            NaN   \n",
       "max          NaN     NaN      85.000000         NaN            NaN   \n",
       "\n",
       "       Channel_Code        Vintage Credit_Product  Avg_Account_Balance  \\\n",
       "count        105312  105312.000000          92790         1.053120e+05   \n",
       "unique            4            NaN              2                  NaN   \n",
       "top              X1            NaN             No                  NaN   \n",
       "freq          44484            NaN          61608                  NaN   \n",
       "mean            NaN      46.842819            NaN         1.134195e+06   \n",
       "std             NaN      32.273634            NaN         8.662430e+05   \n",
       "min             NaN       7.000000            NaN         2.259700e+04   \n",
       "25%             NaN      20.000000            NaN         6.039822e+05   \n",
       "50%             NaN      32.000000            NaN         8.966345e+05   \n",
       "75%             NaN      73.000000            NaN         1.371598e+06   \n",
       "max             NaN     135.000000            NaN         9.908858e+06   \n",
       "\n",
       "       Is_Active  \n",
       "count     105312  \n",
       "unique         2  \n",
       "top           No  \n",
       "freq       63797  \n",
       "mean         NaN  \n",
       "std          NaN  \n",
       "min          NaN  \n",
       "25%          NaN  \n",
       "50%          NaN  \n",
       "75%          NaN  \n",
       "max          NaN  "
      ]
     },
     "execution_count": 10,
     "metadata": {},
     "output_type": "execute_result"
    }
   ],
   "source": [
    "test.describe(include = 'all')"
   ]
  },
  {
   "cell_type": "code",
   "execution_count": 11,
   "metadata": {},
   "outputs": [
    {
     "data": {
      "text/plain": [
       "ID                         0\n",
       "Gender                     0\n",
       "Age                        0\n",
       "Region_Code                0\n",
       "Occupation                 0\n",
       "Channel_Code               0\n",
       "Vintage                    0\n",
       "Credit_Product         29325\n",
       "Avg_Account_Balance        0\n",
       "Is_Active                  0\n",
       "Is_Lead                    0\n",
       "dtype: int64"
      ]
     },
     "execution_count": 11,
     "metadata": {},
     "output_type": "execute_result"
    }
   ],
   "source": [
    "train.isna().sum()"
   ]
  },
  {
   "cell_type": "code",
   "execution_count": 12,
   "metadata": {},
   "outputs": [
    {
     "data": {
      "text/plain": [
       "ID                         0\n",
       "Gender                     0\n",
       "Age                        0\n",
       "Region_Code                0\n",
       "Occupation                 0\n",
       "Channel_Code               0\n",
       "Vintage                    0\n",
       "Credit_Product         12522\n",
       "Avg_Account_Balance        0\n",
       "Is_Active                  0\n",
       "dtype: int64"
      ]
     },
     "execution_count": 12,
     "metadata": {},
     "output_type": "execute_result"
    }
   ],
   "source": [
    "test.isna().sum()"
   ]
  },
  {
   "cell_type": "code",
   "execution_count": 13,
   "metadata": {},
   "outputs": [
    {
     "data": {
      "text/plain": [
       "No     144357\n",
       "Yes     72043\n",
       "Name: Credit_Product, dtype: int64"
      ]
     },
     "execution_count": 13,
     "metadata": {},
     "output_type": "execute_result"
    }
   ],
   "source": [
    "train['Credit_Product'].value_counts()"
   ]
  },
  {
   "cell_type": "code",
   "execution_count": 14,
   "metadata": {},
   "outputs": [],
   "source": [
    "train['Credit_Product'] = train['Credit_Product'].fillna(train['Credit_Product'].mode()[0])\n",
    "test['Credit_Product'] = test['Credit_Product'].fillna(test['Credit_Product'].mode()[0])"
   ]
  },
  {
   "cell_type": "code",
   "execution_count": 15,
   "metadata": {},
   "outputs": [
    {
     "data": {
      "text/plain": [
       "ID                     0\n",
       "Gender                 0\n",
       "Age                    0\n",
       "Region_Code            0\n",
       "Occupation             0\n",
       "Channel_Code           0\n",
       "Vintage                0\n",
       "Credit_Product         0\n",
       "Avg_Account_Balance    0\n",
       "Is_Active              0\n",
       "Is_Lead                0\n",
       "dtype: int64"
      ]
     },
     "execution_count": 15,
     "metadata": {},
     "output_type": "execute_result"
    }
   ],
   "source": [
    "train.isna().sum()"
   ]
  },
  {
   "cell_type": "code",
   "execution_count": 16,
   "metadata": {},
   "outputs": [
    {
     "name": "stdout",
     "output_type": "stream",
     "text": [
      "<class 'pandas.core.frame.DataFrame'>\n",
      "RangeIndex: 245725 entries, 0 to 245724\n",
      "Data columns (total 11 columns):\n",
      " #   Column               Non-Null Count   Dtype \n",
      "---  ------               --------------   ----- \n",
      " 0   ID                   245725 non-null  object\n",
      " 1   Gender               245725 non-null  object\n",
      " 2   Age                  245725 non-null  int64 \n",
      " 3   Region_Code          245725 non-null  object\n",
      " 4   Occupation           245725 non-null  object\n",
      " 5   Channel_Code         245725 non-null  object\n",
      " 6   Vintage              245725 non-null  int64 \n",
      " 7   Credit_Product       245725 non-null  object\n",
      " 8   Avg_Account_Balance  245725 non-null  int64 \n",
      " 9   Is_Active            245725 non-null  object\n",
      " 10  Is_Lead              245725 non-null  int64 \n",
      "dtypes: int64(4), object(7)\n",
      "memory usage: 20.6+ MB\n"
     ]
    }
   ],
   "source": [
    "train.info()"
   ]
  },
  {
   "cell_type": "code",
   "execution_count": 17,
   "metadata": {},
   "outputs": [
    {
     "data": {
      "text/html": [
       "<div>\n",
       "<style scoped>\n",
       "    .dataframe tbody tr th:only-of-type {\n",
       "        vertical-align: middle;\n",
       "    }\n",
       "\n",
       "    .dataframe tbody tr th {\n",
       "        vertical-align: top;\n",
       "    }\n",
       "\n",
       "    .dataframe thead th {\n",
       "        text-align: right;\n",
       "    }\n",
       "</style>\n",
       "<table border=\"1\" class=\"dataframe\">\n",
       "  <thead>\n",
       "    <tr style=\"text-align: right;\">\n",
       "      <th></th>\n",
       "      <th>ID</th>\n",
       "      <th>Gender</th>\n",
       "      <th>Age</th>\n",
       "      <th>Region_Code</th>\n",
       "      <th>Occupation</th>\n",
       "      <th>Channel_Code</th>\n",
       "      <th>Vintage</th>\n",
       "      <th>Credit_Product</th>\n",
       "      <th>Avg_Account_Balance</th>\n",
       "      <th>Is_Active</th>\n",
       "      <th>Is_Lead</th>\n",
       "    </tr>\n",
       "  </thead>\n",
       "  <tbody>\n",
       "    <tr>\n",
       "      <th>count</th>\n",
       "      <td>245725</td>\n",
       "      <td>245725</td>\n",
       "      <td>245725.000000</td>\n",
       "      <td>245725</td>\n",
       "      <td>245725</td>\n",
       "      <td>245725</td>\n",
       "      <td>245725.000000</td>\n",
       "      <td>245725</td>\n",
       "      <td>2.457250e+05</td>\n",
       "      <td>245725</td>\n",
       "      <td>245725.000000</td>\n",
       "    </tr>\n",
       "    <tr>\n",
       "      <th>unique</th>\n",
       "      <td>245725</td>\n",
       "      <td>2</td>\n",
       "      <td>NaN</td>\n",
       "      <td>35</td>\n",
       "      <td>4</td>\n",
       "      <td>4</td>\n",
       "      <td>NaN</td>\n",
       "      <td>2</td>\n",
       "      <td>NaN</td>\n",
       "      <td>2</td>\n",
       "      <td>NaN</td>\n",
       "    </tr>\n",
       "    <tr>\n",
       "      <th>top</th>\n",
       "      <td>KV3ZPFSW</td>\n",
       "      <td>Male</td>\n",
       "      <td>NaN</td>\n",
       "      <td>RG268</td>\n",
       "      <td>Self_Employed</td>\n",
       "      <td>X1</td>\n",
       "      <td>NaN</td>\n",
       "      <td>No</td>\n",
       "      <td>NaN</td>\n",
       "      <td>No</td>\n",
       "      <td>NaN</td>\n",
       "    </tr>\n",
       "    <tr>\n",
       "      <th>freq</th>\n",
       "      <td>1</td>\n",
       "      <td>134197</td>\n",
       "      <td>NaN</td>\n",
       "      <td>35934</td>\n",
       "      <td>100886</td>\n",
       "      <td>103718</td>\n",
       "      <td>NaN</td>\n",
       "      <td>173682</td>\n",
       "      <td>NaN</td>\n",
       "      <td>150290</td>\n",
       "      <td>NaN</td>\n",
       "    </tr>\n",
       "    <tr>\n",
       "      <th>mean</th>\n",
       "      <td>NaN</td>\n",
       "      <td>NaN</td>\n",
       "      <td>43.856307</td>\n",
       "      <td>NaN</td>\n",
       "      <td>NaN</td>\n",
       "      <td>NaN</td>\n",
       "      <td>46.959141</td>\n",
       "      <td>NaN</td>\n",
       "      <td>1.128403e+06</td>\n",
       "      <td>NaN</td>\n",
       "      <td>0.237208</td>\n",
       "    </tr>\n",
       "    <tr>\n",
       "      <th>std</th>\n",
       "      <td>NaN</td>\n",
       "      <td>NaN</td>\n",
       "      <td>14.828672</td>\n",
       "      <td>NaN</td>\n",
       "      <td>NaN</td>\n",
       "      <td>NaN</td>\n",
       "      <td>32.353136</td>\n",
       "      <td>NaN</td>\n",
       "      <td>8.529364e+05</td>\n",
       "      <td>NaN</td>\n",
       "      <td>0.425372</td>\n",
       "    </tr>\n",
       "    <tr>\n",
       "      <th>min</th>\n",
       "      <td>NaN</td>\n",
       "      <td>NaN</td>\n",
       "      <td>23.000000</td>\n",
       "      <td>NaN</td>\n",
       "      <td>NaN</td>\n",
       "      <td>NaN</td>\n",
       "      <td>7.000000</td>\n",
       "      <td>NaN</td>\n",
       "      <td>2.079000e+04</td>\n",
       "      <td>NaN</td>\n",
       "      <td>0.000000</td>\n",
       "    </tr>\n",
       "    <tr>\n",
       "      <th>25%</th>\n",
       "      <td>NaN</td>\n",
       "      <td>NaN</td>\n",
       "      <td>30.000000</td>\n",
       "      <td>NaN</td>\n",
       "      <td>NaN</td>\n",
       "      <td>NaN</td>\n",
       "      <td>20.000000</td>\n",
       "      <td>NaN</td>\n",
       "      <td>6.043100e+05</td>\n",
       "      <td>NaN</td>\n",
       "      <td>0.000000</td>\n",
       "    </tr>\n",
       "    <tr>\n",
       "      <th>50%</th>\n",
       "      <td>NaN</td>\n",
       "      <td>NaN</td>\n",
       "      <td>43.000000</td>\n",
       "      <td>NaN</td>\n",
       "      <td>NaN</td>\n",
       "      <td>NaN</td>\n",
       "      <td>32.000000</td>\n",
       "      <td>NaN</td>\n",
       "      <td>8.946010e+05</td>\n",
       "      <td>NaN</td>\n",
       "      <td>0.000000</td>\n",
       "    </tr>\n",
       "    <tr>\n",
       "      <th>75%</th>\n",
       "      <td>NaN</td>\n",
       "      <td>NaN</td>\n",
       "      <td>54.000000</td>\n",
       "      <td>NaN</td>\n",
       "      <td>NaN</td>\n",
       "      <td>NaN</td>\n",
       "      <td>73.000000</td>\n",
       "      <td>NaN</td>\n",
       "      <td>1.366666e+06</td>\n",
       "      <td>NaN</td>\n",
       "      <td>0.000000</td>\n",
       "    </tr>\n",
       "    <tr>\n",
       "      <th>max</th>\n",
       "      <td>NaN</td>\n",
       "      <td>NaN</td>\n",
       "      <td>85.000000</td>\n",
       "      <td>NaN</td>\n",
       "      <td>NaN</td>\n",
       "      <td>NaN</td>\n",
       "      <td>135.000000</td>\n",
       "      <td>NaN</td>\n",
       "      <td>1.035201e+07</td>\n",
       "      <td>NaN</td>\n",
       "      <td>1.000000</td>\n",
       "    </tr>\n",
       "  </tbody>\n",
       "</table>\n",
       "</div>"
      ],
      "text/plain": [
       "              ID  Gender            Age Region_Code     Occupation  \\\n",
       "count     245725  245725  245725.000000      245725         245725   \n",
       "unique    245725       2            NaN          35              4   \n",
       "top     KV3ZPFSW    Male            NaN       RG268  Self_Employed   \n",
       "freq           1  134197            NaN       35934         100886   \n",
       "mean         NaN     NaN      43.856307         NaN            NaN   \n",
       "std          NaN     NaN      14.828672         NaN            NaN   \n",
       "min          NaN     NaN      23.000000         NaN            NaN   \n",
       "25%          NaN     NaN      30.000000         NaN            NaN   \n",
       "50%          NaN     NaN      43.000000         NaN            NaN   \n",
       "75%          NaN     NaN      54.000000         NaN            NaN   \n",
       "max          NaN     NaN      85.000000         NaN            NaN   \n",
       "\n",
       "       Channel_Code        Vintage Credit_Product  Avg_Account_Balance  \\\n",
       "count        245725  245725.000000         245725         2.457250e+05   \n",
       "unique            4            NaN              2                  NaN   \n",
       "top              X1            NaN             No                  NaN   \n",
       "freq         103718            NaN         173682                  NaN   \n",
       "mean            NaN      46.959141            NaN         1.128403e+06   \n",
       "std             NaN      32.353136            NaN         8.529364e+05   \n",
       "min             NaN       7.000000            NaN         2.079000e+04   \n",
       "25%             NaN      20.000000            NaN         6.043100e+05   \n",
       "50%             NaN      32.000000            NaN         8.946010e+05   \n",
       "75%             NaN      73.000000            NaN         1.366666e+06   \n",
       "max             NaN     135.000000            NaN         1.035201e+07   \n",
       "\n",
       "       Is_Active        Is_Lead  \n",
       "count     245725  245725.000000  \n",
       "unique         2            NaN  \n",
       "top           No            NaN  \n",
       "freq      150290            NaN  \n",
       "mean         NaN       0.237208  \n",
       "std          NaN       0.425372  \n",
       "min          NaN       0.000000  \n",
       "25%          NaN       0.000000  \n",
       "50%          NaN       0.000000  \n",
       "75%          NaN       0.000000  \n",
       "max          NaN       1.000000  "
      ]
     },
     "execution_count": 17,
     "metadata": {},
     "output_type": "execute_result"
    }
   ],
   "source": [
    "train.describe(include = 'all')"
   ]
  },
  {
   "cell_type": "code",
   "execution_count": 18,
   "metadata": {},
   "outputs": [
    {
     "data": {
      "text/plain": [
       "<matplotlib.axes._subplots.AxesSubplot at 0x1ffd5d16910>"
      ]
     },
     "execution_count": 18,
     "metadata": {},
     "output_type": "execute_result"
    },
    {
     "data": {
      "image/png": "[encoded data removed]",
      "text/plain": [
       "<Figure size 864x360 with 1 Axes>"
      ]
     },
     "metadata": {
      "needs_background": "light"
     },
     "output_type": "display_data"
    }
   ],
   "source": [
    "plt.figure(figsize=(12,5))\n",
    "sns.countplot('Gender',data = train, palette='ocean')"
   ]
  },
  {
   "cell_type": "code",
   "execution_count": 19,
   "metadata": {},
   "outputs": [
    {
     "data": {
      "text/plain": [
       "<matplotlib.axes._subplots.AxesSubplot at 0x1ffd7321f10>"
      ]
     },
     "execution_count": 19,
     "metadata": {},
     "output_type": "execute_result"
    },
    {
     "data": {
      "image/png": "[encoded data removed]",
      "text/plain": [
       "<Figure size 2160x504 with 1 Axes>"
      ]
     },
     "metadata": {
      "needs_background": "light"
     },
     "output_type": "display_data"
    }
   ],
   "source": [
    "plt.figure(figsize=(30,7))\n",
    "sns.countplot('Region_Code',data = train, palette='Reds')"
   ]
  },
  {
   "cell_type": "code",
   "execution_count": 20,
   "metadata": {},
   "outputs": [
    {
     "data": {
      "text/plain": [
       "<matplotlib.axes._subplots.AxesSubplot at 0x1ffd7c6b190>"
      ]
     },
     "execution_count": 20,
     "metadata": {},
     "output_type": "execute_result"
    },
    {
     "data": {
      "image/png": "[encoded data removed]",
      "text/plain": [
       "<Figure size 576x360 with 1 Axes>"
      ]
     },
     "metadata": {
      "needs_background": "light"
     },
     "output_type": "display_data"
    }
   ],
   "source": [
    "plt.figure(figsize=(8,5))\n",
    "sns.countplot('Occupation',data = train, palette= 'Greys')"
   ]
  },
  {
   "cell_type": "code",
   "execution_count": 21,
   "metadata": {},
   "outputs": [
    {
     "data": {
      "text/plain": [
       "<matplotlib.axes._subplots.AxesSubplot at 0x1ffd7cc1c70>"
      ]
     },
     "execution_count": 21,
     "metadata": {},
     "output_type": "execute_result"
    },
    {
     "data": {
      "image/png": "[encoded data removed]",
      "text/plain": [
       "<Figure size 576x360 with 1 Axes>"
      ]
     },
     "metadata": {
      "needs_background": "light"
     },
     "output_type": "display_data"
    }
   ],
   "source": [
    "plt.figure(figsize=(8,5))\n",
    "sns.countplot('Channel_Code',data = train, palette= 'copper')"
   ]
  },
  {
   "cell_type": "code",
   "execution_count": 22,
   "metadata": {},
   "outputs": [
    {
     "data": {
      "text/plain": [
       "<matplotlib.axes._subplots.AxesSubplot at 0x1ffd7c6b1f0>"
      ]
     },
     "execution_count": 22,
     "metadata": {},
     "output_type": "execute_result"
    },
    {
     "data": {
      "image/png": "[encoded data removed]",
      "text/plain": [
       "<Figure size 576x360 with 1 Axes>"
      ]
     },
     "metadata": {
      "needs_background": "light"
     },
     "output_type": "display_data"
    }
   ],
   "source": [
    "plt.figure(figsize=(8,5))\n",
    "sns.countplot('Credit_Product',data = train, palette= 'OrRd')"
   ]
  },
  {
   "cell_type": "code",
   "execution_count": 23,
   "metadata": {},
   "outputs": [
    {
     "data": {
      "text/plain": [
       "<matplotlib.axes._subplots.AxesSubplot at 0x1ffd5cda580>"
      ]
     },
     "execution_count": 23,
     "metadata": {},
     "output_type": "execute_result"
    },
    {
     "data": {
      "image/png": "[encoded data removed]",
      "text/plain": [
       "<Figure size 576x360 with 1 Axes>"
      ]
     },
     "metadata": {
      "needs_background": "light"
     },
     "output_type": "display_data"
    }
   ],
   "source": [
    "plt.figure(figsize=(8,5))\n",
    "sns.countplot('Is_Active',data = train, palette= 'twilight_shifted_r')"
   ]
  },
  {
   "cell_type": "code",
   "execution_count": 24,
   "metadata": {},
   "outputs": [
    {
     "data": {
      "text/plain": [
       "Index(['ID', 'Gender', 'Age', 'Region_Code', 'Occupation', 'Channel_Code',\n",
       "       'Vintage', 'Credit_Product', 'Avg_Account_Balance', 'Is_Active',\n",
       "       'Is_Lead'],\n",
       "      dtype='object')"
      ]
     },
     "execution_count": 24,
     "metadata": {},
     "output_type": "execute_result"
    }
   ],
   "source": [
    "train.columns"
   ]
  },
  {
   "cell_type": "code",
   "execution_count": 25,
   "metadata": {},
   "outputs": [
    {
     "data": {
      "text/plain": [
       "<matplotlib.axes._subplots.AxesSubplot at 0x1ffd53a8fd0>"
      ]
     },
     "execution_count": 25,
     "metadata": {},
     "output_type": "execute_result"
    },
    {
     "data": {
      "image/png": "[encoded data removed]",
      "text/plain": [
       "<Figure size 720x1080 with 1 Axes>"
      ]
     },
     "metadata": {
      "needs_background": "light"
     },
     "output_type": "display_data"
    }
   ],
   "source": [
    "plt.figure(figsize=(10,15))\n",
    "sns.barplot(y='Region_Code', x='Is_Lead', data=train, palette='flag')"
   ]
  },
  {
   "cell_type": "code",
   "execution_count": 26,
   "metadata": {},
   "outputs": [
    {
     "data": {
      "text/plain": [
       "<matplotlib.axes._subplots.AxesSubplot at 0x1ffd73e6a60>"
      ]
     },
     "execution_count": 26,
     "metadata": {},
     "output_type": "execute_result"
    },
    {
     "data": {
      "image/png": "[encoded data removed]",
      "text/plain": [
       "<Figure size 720x360 with 1 Axes>"
      ]
     },
     "metadata": {
      "needs_background": "light"
     },
     "output_type": "display_data"
    }
   ],
   "source": [
    "plt.figure(figsize=(10,5))\n",
    "sns.barplot(y='Occupation', x='Is_Lead', data=train, palette='flag')"
   ]
  },
  {
   "cell_type": "code",
   "execution_count": 27,
   "metadata": {},
   "outputs": [
    {
     "data": {
      "text/plain": [
       "<matplotlib.axes._subplots.AxesSubplot at 0x1ffd5cef160>"
      ]
     },
     "execution_count": 27,
     "metadata": {},
     "output_type": "execute_result"
    },
    {
     "data": {
      "image/png": "[encoded data removed]",
      "text/plain": [
       "<Figure size 216x360 with 1 Axes>"
      ]
     },
     "metadata": {
      "needs_background": "light"
     },
     "output_type": "display_data"
    }
   ],
   "source": [
    "plt.figure(figsize=(3,5))\n",
    "sns.barplot(y='Channel_Code', x='Is_Lead', data=train, palette='flag')"
   ]
  },
  {
   "cell_type": "code",
   "execution_count": 28,
   "metadata": {},
   "outputs": [
    {
     "data": {
      "text/html": [
       "<div>\n",
       "<style scoped>\n",
       "    .dataframe tbody tr th:only-of-type {\n",
       "        vertical-align: middle;\n",
       "    }\n",
       "\n",
       "    .dataframe tbody tr th {\n",
       "        vertical-align: top;\n",
       "    }\n",
       "\n",
       "    .dataframe thead th {\n",
       "        text-align: right;\n",
       "    }\n",
       "</style>\n",
       "<table border=\"1\" class=\"dataframe\">\n",
       "  <thead>\n",
       "    <tr style=\"text-align: right;\">\n",
       "      <th></th>\n",
       "      <th>ID</th>\n",
       "      <th>Gender</th>\n",
       "      <th>Age</th>\n",
       "      <th>Region_Code</th>\n",
       "      <th>Occupation</th>\n",
       "      <th>Channel_Code</th>\n",
       "      <th>Vintage</th>\n",
       "      <th>Credit_Product</th>\n",
       "      <th>Avg_Account_Balance</th>\n",
       "      <th>Is_Active</th>\n",
       "      <th>Is_Lead</th>\n",
       "    </tr>\n",
       "  </thead>\n",
       "  <tbody>\n",
       "    <tr>\n",
       "      <th>0</th>\n",
       "      <td>NNVBBKZB</td>\n",
       "      <td>Female</td>\n",
       "      <td>73</td>\n",
       "      <td>RG268</td>\n",
       "      <td>Other</td>\n",
       "      <td>X3</td>\n",
       "      <td>43</td>\n",
       "      <td>No</td>\n",
       "      <td>1045696</td>\n",
       "      <td>No</td>\n",
       "      <td>0</td>\n",
       "    </tr>\n",
       "    <tr>\n",
       "      <th>1</th>\n",
       "      <td>IDD62UNG</td>\n",
       "      <td>Female</td>\n",
       "      <td>30</td>\n",
       "      <td>RG277</td>\n",
       "      <td>Salaried</td>\n",
       "      <td>X1</td>\n",
       "      <td>32</td>\n",
       "      <td>No</td>\n",
       "      <td>581988</td>\n",
       "      <td>No</td>\n",
       "      <td>0</td>\n",
       "    </tr>\n",
       "    <tr>\n",
       "      <th>2</th>\n",
       "      <td>HD3DSEMC</td>\n",
       "      <td>Female</td>\n",
       "      <td>56</td>\n",
       "      <td>RG268</td>\n",
       "      <td>Self_Employed</td>\n",
       "      <td>X3</td>\n",
       "      <td>26</td>\n",
       "      <td>No</td>\n",
       "      <td>1484315</td>\n",
       "      <td>Yes</td>\n",
       "      <td>0</td>\n",
       "    </tr>\n",
       "    <tr>\n",
       "      <th>3</th>\n",
       "      <td>BF3NC7KV</td>\n",
       "      <td>Male</td>\n",
       "      <td>34</td>\n",
       "      <td>RG270</td>\n",
       "      <td>Salaried</td>\n",
       "      <td>X1</td>\n",
       "      <td>19</td>\n",
       "      <td>No</td>\n",
       "      <td>470454</td>\n",
       "      <td>No</td>\n",
       "      <td>0</td>\n",
       "    </tr>\n",
       "    <tr>\n",
       "      <th>4</th>\n",
       "      <td>TEASRWXV</td>\n",
       "      <td>Female</td>\n",
       "      <td>30</td>\n",
       "      <td>RG282</td>\n",
       "      <td>Salaried</td>\n",
       "      <td>X1</td>\n",
       "      <td>33</td>\n",
       "      <td>No</td>\n",
       "      <td>886787</td>\n",
       "      <td>No</td>\n",
       "      <td>0</td>\n",
       "    </tr>\n",
       "  </tbody>\n",
       "</table>\n",
       "</div>"
      ],
      "text/plain": [
       "         ID  Gender  Age Region_Code     Occupation Channel_Code  Vintage  \\\n",
       "0  NNVBBKZB  Female   73       RG268          Other           X3       43   \n",
       "1  IDD62UNG  Female   30       RG277       Salaried           X1       32   \n",
       "2  HD3DSEMC  Female   56       RG268  Self_Employed           X3       26   \n",
       "3  BF3NC7KV    Male   34       RG270       Salaried           X1       19   \n",
       "4  TEASRWXV  Female   30       RG282       Salaried           X1       33   \n",
       "\n",
       "  Credit_Product  Avg_Account_Balance Is_Active  Is_Lead  \n",
       "0             No              1045696        No        0  \n",
       "1             No               581988        No        0  \n",
       "2             No              1484315       Yes        0  \n",
       "3             No               470454        No        0  \n",
       "4             No               886787        No        0  "
      ]
     },
     "execution_count": 28,
     "metadata": {},
     "output_type": "execute_result"
    }
   ],
   "source": [
    "train.head()"
   ]
  },
  {
   "cell_type": "code",
   "execution_count": 29,
   "metadata": {},
   "outputs": [
    {
     "data": {
      "text/plain": [
       "ID                     object\n",
       "Gender                 object\n",
       "Age                     int64\n",
       "Region_Code            object\n",
       "Occupation             object\n",
       "Channel_Code           object\n",
       "Vintage                 int64\n",
       "Credit_Product         object\n",
       "Avg_Account_Balance     int64\n",
       "Is_Active              object\n",
       "Is_Lead                 int64\n",
       "dtype: object"
      ]
     },
     "execution_count": 29,
     "metadata": {},
     "output_type": "execute_result"
    }
   ],
   "source": [
    "train.dtypes"
   ]
  },
  {
   "cell_type": "code",
   "execution_count": 30,
   "metadata": {},
   "outputs": [],
   "source": [
    "train['Id'] = label.fit_transform(train['ID'])\n",
    "cols = ['Gender','Region_Code','Occupation','Channel_Code','Credit_Product','Is_Active']\n",
    "for i in cols:\n",
    "    train[i] = label.fit_transform(train[i])"
   ]
  },
  {
   "cell_type": "code",
   "execution_count": 31,
   "metadata": {},
   "outputs": [],
   "source": [
    "test['Id'] = label.fit_transform(test['ID'])\n",
    "for i in cols:\n",
    "    test[i] = label.fit_transform(test[i])"
   ]
  },
  {
   "cell_type": "code",
   "execution_count": 32,
   "metadata": {},
   "outputs": [],
   "source": [
    "Train = pd.get_dummies(train, columns = cols)\n",
    "Test = pd.get_dummies(test, columns = cols)"
   ]
  },
  {
   "cell_type": "code",
   "execution_count": 57,
   "metadata": {},
   "outputs": [
    {
     "data": {
      "text/plain": [
       "(245725, 55)"
      ]
     },
     "execution_count": 57,
     "metadata": {},
     "output_type": "execute_result"
    }
   ],
   "source": [
    "Train.shape"
   ]
  },
  {
   "cell_type": "code",
   "execution_count": 33,
   "metadata": {},
   "outputs": [],
   "source": [
    "final_train = Train.select_dtypes(exclude = object)\n",
    "final_test = Test.select_dtypes(exclude = object)"
   ]
  },
  {
   "cell_type": "code",
   "execution_count": 34,
   "metadata": {},
   "outputs": [
    {
     "data": {
      "text/html": [
       "<div>\n",
       "<style scoped>\n",
       "    .dataframe tbody tr th:only-of-type {\n",
       "        vertical-align: middle;\n",
       "    }\n",
       "\n",
       "    .dataframe tbody tr th {\n",
       "        vertical-align: top;\n",
       "    }\n",
       "\n",
       "    .dataframe thead th {\n",
       "        text-align: right;\n",
       "    }\n",
       "</style>\n",
       "<table border=\"1\" class=\"dataframe\">\n",
       "  <thead>\n",
       "    <tr style=\"text-align: right;\">\n",
       "      <th></th>\n",
       "      <th>Age</th>\n",
       "      <th>Vintage</th>\n",
       "      <th>Avg_Account_Balance</th>\n",
       "      <th>Is_Lead</th>\n",
       "      <th>Id</th>\n",
       "      <th>Gender_0</th>\n",
       "      <th>Gender_1</th>\n",
       "      <th>Region_Code_0</th>\n",
       "      <th>Region_Code_1</th>\n",
       "      <th>Region_Code_2</th>\n",
       "      <th>...</th>\n",
       "      <th>Occupation_2</th>\n",
       "      <th>Occupation_3</th>\n",
       "      <th>Channel_Code_0</th>\n",
       "      <th>Channel_Code_1</th>\n",
       "      <th>Channel_Code_2</th>\n",
       "      <th>Channel_Code_3</th>\n",
       "      <th>Credit_Product_0</th>\n",
       "      <th>Credit_Product_1</th>\n",
       "      <th>Is_Active_0</th>\n",
       "      <th>Is_Active_1</th>\n",
       "    </tr>\n",
       "  </thead>\n",
       "  <tbody>\n",
       "    <tr>\n",
       "      <th>0</th>\n",
       "      <td>73</td>\n",
       "      <td>43</td>\n",
       "      <td>1045696</td>\n",
       "      <td>0</td>\n",
       "      <td>179194</td>\n",
       "      <td>1</td>\n",
       "      <td>0</td>\n",
       "      <td>0</td>\n",
       "      <td>0</td>\n",
       "      <td>0</td>\n",
       "      <td>...</td>\n",
       "      <td>0</td>\n",
       "      <td>0</td>\n",
       "      <td>0</td>\n",
       "      <td>0</td>\n",
       "      <td>1</td>\n",
       "      <td>0</td>\n",
       "      <td>1</td>\n",
       "      <td>0</td>\n",
       "      <td>1</td>\n",
       "      <td>0</td>\n",
       "    </tr>\n",
       "    <tr>\n",
       "      <th>1</th>\n",
       "      <td>30</td>\n",
       "      <td>32</td>\n",
       "      <td>581988</td>\n",
       "      <td>0</td>\n",
       "      <td>131013</td>\n",
       "      <td>1</td>\n",
       "      <td>0</td>\n",
       "      <td>0</td>\n",
       "      <td>0</td>\n",
       "      <td>0</td>\n",
       "      <td>...</td>\n",
       "      <td>1</td>\n",
       "      <td>0</td>\n",
       "      <td>1</td>\n",
       "      <td>0</td>\n",
       "      <td>0</td>\n",
       "      <td>0</td>\n",
       "      <td>1</td>\n",
       "      <td>0</td>\n",
       "      <td>1</td>\n",
       "      <td>0</td>\n",
       "    </tr>\n",
       "    <tr>\n",
       "      <th>2</th>\n",
       "      <td>56</td>\n",
       "      <td>26</td>\n",
       "      <td>1484315</td>\n",
       "      <td>0</td>\n",
       "      <td>121520</td>\n",
       "      <td>1</td>\n",
       "      <td>0</td>\n",
       "      <td>0</td>\n",
       "      <td>0</td>\n",
       "      <td>0</td>\n",
       "      <td>...</td>\n",
       "      <td>0</td>\n",
       "      <td>1</td>\n",
       "      <td>0</td>\n",
       "      <td>0</td>\n",
       "      <td>1</td>\n",
       "      <td>0</td>\n",
       "      <td>1</td>\n",
       "      <td>0</td>\n",
       "      <td>0</td>\n",
       "      <td>1</td>\n",
       "    </tr>\n",
       "    <tr>\n",
       "      <th>3</th>\n",
       "      <td>34</td>\n",
       "      <td>19</td>\n",
       "      <td>470454</td>\n",
       "      <td>0</td>\n",
       "      <td>57273</td>\n",
       "      <td>0</td>\n",
       "      <td>1</td>\n",
       "      <td>0</td>\n",
       "      <td>0</td>\n",
       "      <td>0</td>\n",
       "      <td>...</td>\n",
       "      <td>1</td>\n",
       "      <td>0</td>\n",
       "      <td>1</td>\n",
       "      <td>0</td>\n",
       "      <td>0</td>\n",
       "      <td>0</td>\n",
       "      <td>1</td>\n",
       "      <td>0</td>\n",
       "      <td>1</td>\n",
       "      <td>0</td>\n",
       "    </tr>\n",
       "    <tr>\n",
       "      <th>4</th>\n",
       "      <td>30</td>\n",
       "      <td>33</td>\n",
       "      <td>886787</td>\n",
       "      <td>0</td>\n",
       "      <td>209602</td>\n",
       "      <td>1</td>\n",
       "      <td>0</td>\n",
       "      <td>0</td>\n",
       "      <td>0</td>\n",
       "      <td>0</td>\n",
       "      <td>...</td>\n",
       "      <td>1</td>\n",
       "      <td>0</td>\n",
       "      <td>1</td>\n",
       "      <td>0</td>\n",
       "      <td>0</td>\n",
       "      <td>0</td>\n",
       "      <td>1</td>\n",
       "      <td>0</td>\n",
       "      <td>1</td>\n",
       "      <td>0</td>\n",
       "    </tr>\n",
       "  </tbody>\n",
       "</table>\n",
       "<p>5 rows × 54 columns</p>\n",
       "</div>"
      ],
      "text/plain": [
       "   Age  Vintage  Avg_Account_Balance  Is_Lead      Id  Gender_0  Gender_1  \\\n",
       "0   73       43              1045696        0  179194         1         0   \n",
       "1   30       32               581988        0  131013         1         0   \n",
       "2   56       26              1484315        0  121520         1         0   \n",
       "3   34       19               470454        0   57273         0         1   \n",
       "4   30       33               886787        0  209602         1         0   \n",
       "\n",
       "   Region_Code_0  Region_Code_1  Region_Code_2  ...  Occupation_2  \\\n",
       "0              0              0              0  ...             0   \n",
       "1              0              0              0  ...             1   \n",
       "2              0              0              0  ...             0   \n",
       "3              0              0              0  ...             1   \n",
       "4              0              0              0  ...             1   \n",
       "\n",
       "   Occupation_3  Channel_Code_0  Channel_Code_1  Channel_Code_2  \\\n",
       "0             0               0               0               1   \n",
       "1             0               1               0               0   \n",
       "2             1               0               0               1   \n",
       "3             0               1               0               0   \n",
       "4             0               1               0               0   \n",
       "\n",
       "   Channel_Code_3  Credit_Product_0  Credit_Product_1  Is_Active_0  \\\n",
       "0               0                 1                 0            1   \n",
       "1               0                 1                 0            1   \n",
       "2               0                 1                 0            0   \n",
       "3               0                 1                 0            1   \n",
       "4               0                 1                 0            1   \n",
       "\n",
       "   Is_Active_1  \n",
       "0            0  \n",
       "1            0  \n",
       "2            1  \n",
       "3            0  \n",
       "4            0  \n",
       "\n",
       "[5 rows x 54 columns]"
      ]
     },
     "execution_count": 34,
     "metadata": {},
     "output_type": "execute_result"
    }
   ],
   "source": [
    "final_train.head()"
   ]
  },
  {
   "cell_type": "code",
   "execution_count": 35,
   "metadata": {},
   "outputs": [
    {
     "data": {
      "text/html": [
       "<div>\n",
       "<style scoped>\n",
       "    .dataframe tbody tr th:only-of-type {\n",
       "        vertical-align: middle;\n",
       "    }\n",
       "\n",
       "    .dataframe tbody tr th {\n",
       "        vertical-align: top;\n",
       "    }\n",
       "\n",
       "    .dataframe thead th {\n",
       "        text-align: right;\n",
       "    }\n",
       "</style>\n",
       "<table border=\"1\" class=\"dataframe\">\n",
       "  <thead>\n",
       "    <tr style=\"text-align: right;\">\n",
       "      <th></th>\n",
       "      <th>Age</th>\n",
       "      <th>Vintage</th>\n",
       "      <th>Avg_Account_Balance</th>\n",
       "      <th>Id</th>\n",
       "      <th>Gender_0</th>\n",
       "      <th>Gender_1</th>\n",
       "      <th>Region_Code_0</th>\n",
       "      <th>Region_Code_1</th>\n",
       "      <th>Region_Code_2</th>\n",
       "      <th>Region_Code_3</th>\n",
       "      <th>...</th>\n",
       "      <th>Occupation_2</th>\n",
       "      <th>Occupation_3</th>\n",
       "      <th>Channel_Code_0</th>\n",
       "      <th>Channel_Code_1</th>\n",
       "      <th>Channel_Code_2</th>\n",
       "      <th>Channel_Code_3</th>\n",
       "      <th>Credit_Product_0</th>\n",
       "      <th>Credit_Product_1</th>\n",
       "      <th>Is_Active_0</th>\n",
       "      <th>Is_Active_1</th>\n",
       "    </tr>\n",
       "  </thead>\n",
       "  <tbody>\n",
       "    <tr>\n",
       "      <th>0</th>\n",
       "      <td>29</td>\n",
       "      <td>25</td>\n",
       "      <td>742366</td>\n",
       "      <td>94233</td>\n",
       "      <td>0</td>\n",
       "      <td>1</td>\n",
       "      <td>0</td>\n",
       "      <td>0</td>\n",
       "      <td>0</td>\n",
       "      <td>0</td>\n",
       "      <td>...</td>\n",
       "      <td>0</td>\n",
       "      <td>0</td>\n",
       "      <td>1</td>\n",
       "      <td>0</td>\n",
       "      <td>0</td>\n",
       "      <td>0</td>\n",
       "      <td>0</td>\n",
       "      <td>1</td>\n",
       "      <td>1</td>\n",
       "      <td>0</td>\n",
       "    </tr>\n",
       "    <tr>\n",
       "      <th>1</th>\n",
       "      <td>43</td>\n",
       "      <td>49</td>\n",
       "      <td>925537</td>\n",
       "      <td>28747</td>\n",
       "      <td>0</td>\n",
       "      <td>1</td>\n",
       "      <td>0</td>\n",
       "      <td>0</td>\n",
       "      <td>0</td>\n",
       "      <td>0</td>\n",
       "      <td>...</td>\n",
       "      <td>0</td>\n",
       "      <td>0</td>\n",
       "      <td>0</td>\n",
       "      <td>1</td>\n",
       "      <td>0</td>\n",
       "      <td>0</td>\n",
       "      <td>1</td>\n",
       "      <td>0</td>\n",
       "      <td>1</td>\n",
       "      <td>0</td>\n",
       "    </tr>\n",
       "    <tr>\n",
       "      <th>2</th>\n",
       "      <td>31</td>\n",
       "      <td>14</td>\n",
       "      <td>215949</td>\n",
       "      <td>94883</td>\n",
       "      <td>0</td>\n",
       "      <td>1</td>\n",
       "      <td>0</td>\n",
       "      <td>0</td>\n",
       "      <td>0</td>\n",
       "      <td>0</td>\n",
       "      <td>...</td>\n",
       "      <td>1</td>\n",
       "      <td>0</td>\n",
       "      <td>1</td>\n",
       "      <td>0</td>\n",
       "      <td>0</td>\n",
       "      <td>0</td>\n",
       "      <td>1</td>\n",
       "      <td>0</td>\n",
       "      <td>1</td>\n",
       "      <td>0</td>\n",
       "    </tr>\n",
       "    <tr>\n",
       "      <th>3</th>\n",
       "      <td>29</td>\n",
       "      <td>33</td>\n",
       "      <td>868070</td>\n",
       "      <td>90941</td>\n",
       "      <td>0</td>\n",
       "      <td>1</td>\n",
       "      <td>0</td>\n",
       "      <td>0</td>\n",
       "      <td>0</td>\n",
       "      <td>0</td>\n",
       "      <td>...</td>\n",
       "      <td>0</td>\n",
       "      <td>0</td>\n",
       "      <td>1</td>\n",
       "      <td>0</td>\n",
       "      <td>0</td>\n",
       "      <td>0</td>\n",
       "      <td>1</td>\n",
       "      <td>0</td>\n",
       "      <td>1</td>\n",
       "      <td>0</td>\n",
       "    </tr>\n",
       "    <tr>\n",
       "      <th>4</th>\n",
       "      <td>29</td>\n",
       "      <td>19</td>\n",
       "      <td>657087</td>\n",
       "      <td>87803</td>\n",
       "      <td>1</td>\n",
       "      <td>0</td>\n",
       "      <td>0</td>\n",
       "      <td>0</td>\n",
       "      <td>0</td>\n",
       "      <td>0</td>\n",
       "      <td>...</td>\n",
       "      <td>0</td>\n",
       "      <td>0</td>\n",
       "      <td>1</td>\n",
       "      <td>0</td>\n",
       "      <td>0</td>\n",
       "      <td>0</td>\n",
       "      <td>1</td>\n",
       "      <td>0</td>\n",
       "      <td>1</td>\n",
       "      <td>0</td>\n",
       "    </tr>\n",
       "  </tbody>\n",
       "</table>\n",
       "<p>5 rows × 53 columns</p>\n",
       "</div>"
      ],
      "text/plain": [
       "   Age  Vintage  Avg_Account_Balance     Id  Gender_0  Gender_1  \\\n",
       "0   29       25               742366  94233         0         1   \n",
       "1   43       49               925537  28747         0         1   \n",
       "2   31       14               215949  94883         0         1   \n",
       "3   29       33               868070  90941         0         1   \n",
       "4   29       19               657087  87803         1         0   \n",
       "\n",
       "   Region_Code_0  Region_Code_1  Region_Code_2  Region_Code_3  ...  \\\n",
       "0              0              0              0              0  ...   \n",
       "1              0              0              0              0  ...   \n",
       "2              0              0              0              0  ...   \n",
       "3              0              0              0              0  ...   \n",
       "4              0              0              0              0  ...   \n",
       "\n",
       "   Occupation_2  Occupation_3  Channel_Code_0  Channel_Code_1  Channel_Code_2  \\\n",
       "0             0             0               1               0               0   \n",
       "1             0             0               0               1               0   \n",
       "2             1             0               1               0               0   \n",
       "3             0             0               1               0               0   \n",
       "4             0             0               1               0               0   \n",
       "\n",
       "   Channel_Code_3  Credit_Product_0  Credit_Product_1  Is_Active_0  \\\n",
       "0               0                 0                 1            1   \n",
       "1               0                 1                 0            1   \n",
       "2               0                 1                 0            1   \n",
       "3               0                 1                 0            1   \n",
       "4               0                 1                 0            1   \n",
       "\n",
       "   Is_Active_1  \n",
       "0            0  \n",
       "1            0  \n",
       "2            0  \n",
       "3            0  \n",
       "4            0  \n",
       "\n",
       "[5 rows x 53 columns]"
      ]
     },
     "execution_count": 35,
     "metadata": {},
     "output_type": "execute_result"
    }
   ],
   "source": [
    "final_test.head()"
   ]
  },
  {
   "cell_type": "code",
   "execution_count": 36,
   "metadata": {},
   "outputs": [],
   "source": [
    "X = final_train.drop(['Is_Lead'], axis = 1)\n",
    "y = final_train[['Is_Lead']]"
   ]
  },
  {
   "cell_type": "code",
   "execution_count": 37,
   "metadata": {},
   "outputs": [],
   "source": [
    "X_train, X_test, y_train, y_test = train_test_split(X, y, test_size = 0.2, random_state = 500)"
   ]
  },
  {
   "cell_type": "code",
   "execution_count": 38,
   "metadata": {},
   "outputs": [],
   "source": [
    "from sklearn.linear_model import LinearRegression, LogisticRegression, Ridge, Lasso\n",
    "from sklearn.neighbors import KNeighborsRegressor\n",
    "from sklearn.naive_bayes import GaussianNB\n",
    "from sklearn.svm import SVR\n",
    "from sklearn.tree import DecisionTreeRegressor\n",
    "from sklearn.ensemble import RandomForestRegressor\n",
    "from sklearn.ensemble import BaggingRegressor\n",
    "from sklearn.ensemble import GradientBoostingRegressor\n",
    "\n",
    "\n",
    "\n",
    "lin = LinearRegression()\n",
    "log = LogisticRegression()\n",
    "Rd = Ridge()\n",
    "Ls = Lasso()\n",
    "KNN = KNeighborsRegressor()\n",
    "NB = GaussianNB() \n",
    "SVM = SVR()\n",
    "DT = DecisionTreeRegressor(criterion='mse', splitter='best', \n",
    "                           max_depth=5000, min_samples_split=2, min_samples_leaf=1, \n",
    "                           min_weight_fraction_leaf=0.0, max_features=None, \n",
    "                           random_state=None, max_leaf_nodes=None, \n",
    "                           min_impurity_decrease=0, min_impurity_split=None, \n",
    "                           ccp_alpha=0)\n",
    "RF = RandomForestRegressor(n_estimators=500, criterion='mse', max_depth=None, \n",
    "                             min_samples_split=2, min_samples_leaf=1, min_weight_fraction_leaf=0.0, \n",
    "                             max_features='log2', max_leaf_nodes=None, min_impurity_decrease=0.0, \n",
    "                             min_impurity_split=None, bootstrap=True, oob_score=False, n_jobs=-1, \n",
    "                             random_state=None, verbose=0, warm_start=False, \n",
    "                             ccp_alpha=0.0, max_samples=None)\n",
    "\n",
    "BR = BaggingRegressor(base_estimator = DT)\n",
    "GBR = GradientBoostingRegressor()"
   ]
  },
  {
   "cell_type": "code",
   "execution_count": 39,
   "metadata": {},
   "outputs": [],
   "source": [
    "algo = [lin, Ls, KNN, DT, RF, BR, GBR]\n",
    "Algo_names = ['LinearRegression', \n",
    "              'Lasso','KNeighborsRegressor',\n",
    "              'DecisionTreeRegressor','RandomForestRegressor','BaggingRegressor','GradientBoostingRegressor']\n",
    "rmse_list = []"
   ]
  },
  {
   "cell_type": "code",
   "execution_count": 40,
   "metadata": {},
   "outputs": [],
   "source": [
    "for name in algo:\n",
    "    model = name\n",
    "    model.fit(X_train, y_train)\n",
    "    y_pred = model.predict(X_test)\n",
    "    MSE = metrics.mean_squared_error(y_test,y_pred)\n",
    "    rmse = np.sqrt(MSE)\n",
    "    rmse_list.append(rmse)"
   ]
  },
  {
   "cell_type": "code",
   "execution_count": 41,
   "metadata": {},
   "outputs": [
    {
     "data": {
      "text/html": [
       "<div>\n",
       "<style scoped>\n",
       "    .dataframe tbody tr th:only-of-type {\n",
       "        vertical-align: middle;\n",
       "    }\n",
       "\n",
       "    .dataframe tbody tr th {\n",
       "        vertical-align: top;\n",
       "    }\n",
       "\n",
       "    .dataframe thead th {\n",
       "        text-align: right;\n",
       "    }\n",
       "</style>\n",
       "<table border=\"1\" class=\"dataframe\">\n",
       "  <thead>\n",
       "    <tr style=\"text-align: right;\">\n",
       "      <th></th>\n",
       "      <th>Model</th>\n",
       "      <th>RMSE</th>\n",
       "    </tr>\n",
       "  </thead>\n",
       "  <tbody>\n",
       "    <tr>\n",
       "      <th>6</th>\n",
       "      <td>GradientBoostingRegressor</td>\n",
       "      <td>0.380862</td>\n",
       "    </tr>\n",
       "    <tr>\n",
       "      <th>4</th>\n",
       "      <td>RandomForestRegressor</td>\n",
       "      <td>0.387001</td>\n",
       "    </tr>\n",
       "    <tr>\n",
       "      <th>0</th>\n",
       "      <td>LinearRegression</td>\n",
       "      <td>0.399789</td>\n",
       "    </tr>\n",
       "    <tr>\n",
       "      <th>5</th>\n",
       "      <td>BaggingRegressor</td>\n",
       "      <td>0.404444</td>\n",
       "    </tr>\n",
       "    <tr>\n",
       "      <th>1</th>\n",
       "      <td>Lasso</td>\n",
       "      <td>0.411309</td>\n",
       "    </tr>\n",
       "    <tr>\n",
       "      <th>2</th>\n",
       "      <td>KNeighborsRegressor</td>\n",
       "      <td>0.464281</td>\n",
       "    </tr>\n",
       "    <tr>\n",
       "      <th>3</th>\n",
       "      <td>DecisionTreeRegressor</td>\n",
       "      <td>0.535294</td>\n",
       "    </tr>\n",
       "  </tbody>\n",
       "</table>\n",
       "</div>"
      ],
      "text/plain": [
       "                       Model      RMSE\n",
       "6  GradientBoostingRegressor  0.380862\n",
       "4      RandomForestRegressor  0.387001\n",
       "0           LinearRegression  0.399789\n",
       "5           BaggingRegressor  0.404444\n",
       "1                      Lasso  0.411309\n",
       "2        KNeighborsRegressor  0.464281\n",
       "3      DecisionTreeRegressor  0.535294"
      ]
     },
     "execution_count": 41,
     "metadata": {},
     "output_type": "execute_result"
    }
   ],
   "source": [
    "evaluation = pd.DataFrame({'Model': Algo_names, 'RMSE': rmse_list})\n",
    "evaluation.sort_values(by = 'RMSE', ascending = True)"
   ]
  },
  {
   "cell_type": "code",
   "execution_count": 42,
   "metadata": {},
   "outputs": [],
   "source": [
    "log.fit(X_train, y_train)\n",
    "y_pred = log.predict(X_test)\n",
    "MSE = metrics.mean_squared_error(y_test,y_pred)\n",
    "rmse1 = np.sqrt(MSE)\n",
    "#rmse_list.append(rmse)"
   ]
  },
  {
   "cell_type": "code",
   "execution_count": 43,
   "metadata": {},
   "outputs": [],
   "source": [
    "Rd.fit(X_train, y_train)\n",
    "y_pred = Rd.predict(X_test)\n",
    "MSE = metrics.mean_squared_error(y_test,y_pred)\n",
    "rmse2 = np.sqrt(MSE)\n",
    "#rmse_list.append(rmse)"
   ]
  },
  {
   "cell_type": "raw",
   "metadata": {},
   "source": [
    "SVM.fit(X_train, y_train)\n",
    "y_pred = SVM.predict(X_test)\n",
    "MSE = metrics.mean_squared_error(y_test,y_pred)\n",
    "rmse3 = np.sqrt(MSE)\n",
    "#rmse_list.append(rmse)"
   ]
  },
  {
   "cell_type": "code",
   "execution_count": 44,
   "metadata": {},
   "outputs": [],
   "source": [
    "NB.fit(X_train, y_train)\n",
    "y_pred = NB.predict(X_test)\n",
    "MSE = metrics.mean_squared_error(y_test,y_pred)\n",
    "rmse4 = np.sqrt(MSE)\n",
    "#rmse_list.append(rmse)"
   ]
  },
  {
   "cell_type": "code",
   "execution_count": 45,
   "metadata": {},
   "outputs": [],
   "source": [
    "algo_names = ['LogisticRegression','Ridge', 'Navie-Bayes']\n",
    "rmse_list2 = [rmse1,rmse2,rmse4]\n",
    "\n",
    "evaluation2 = pd.DataFrame({'Model': algo_names, 'RMSE' : rmse_list2})"
   ]
  },
  {
   "cell_type": "code",
   "execution_count": 46,
   "metadata": {},
   "outputs": [
    {
     "data": {
      "text/html": [
       "<div>\n",
       "<style scoped>\n",
       "    .dataframe tbody tr th:only-of-type {\n",
       "        vertical-align: middle;\n",
       "    }\n",
       "\n",
       "    .dataframe tbody tr th {\n",
       "        vertical-align: top;\n",
       "    }\n",
       "\n",
       "    .dataframe thead th {\n",
       "        text-align: right;\n",
       "    }\n",
       "</style>\n",
       "<table border=\"1\" class=\"dataframe\">\n",
       "  <thead>\n",
       "    <tr style=\"text-align: right;\">\n",
       "      <th></th>\n",
       "      <th>Model</th>\n",
       "      <th>RMSE</th>\n",
       "    </tr>\n",
       "  </thead>\n",
       "  <tbody>\n",
       "    <tr>\n",
       "      <th>6</th>\n",
       "      <td>GradientBoostingRegressor</td>\n",
       "      <td>0.380862</td>\n",
       "    </tr>\n",
       "    <tr>\n",
       "      <th>4</th>\n",
       "      <td>RandomForestRegressor</td>\n",
       "      <td>0.387001</td>\n",
       "    </tr>\n",
       "    <tr>\n",
       "      <th>0</th>\n",
       "      <td>LinearRegression</td>\n",
       "      <td>0.399789</td>\n",
       "    </tr>\n",
       "    <tr>\n",
       "      <th>8</th>\n",
       "      <td>Ridge</td>\n",
       "      <td>0.399789</td>\n",
       "    </tr>\n",
       "    <tr>\n",
       "      <th>5</th>\n",
       "      <td>BaggingRegressor</td>\n",
       "      <td>0.404444</td>\n",
       "    </tr>\n",
       "    <tr>\n",
       "      <th>1</th>\n",
       "      <td>Lasso</td>\n",
       "      <td>0.411309</td>\n",
       "    </tr>\n",
       "    <tr>\n",
       "      <th>2</th>\n",
       "      <td>KNeighborsRegressor</td>\n",
       "      <td>0.464281</td>\n",
       "    </tr>\n",
       "    <tr>\n",
       "      <th>9</th>\n",
       "      <td>Navie-Bayes</td>\n",
       "      <td>0.495929</td>\n",
       "    </tr>\n",
       "    <tr>\n",
       "      <th>7</th>\n",
       "      <td>LogisticRegression</td>\n",
       "      <td>0.502309</td>\n",
       "    </tr>\n",
       "    <tr>\n",
       "      <th>3</th>\n",
       "      <td>DecisionTreeRegressor</td>\n",
       "      <td>0.535294</td>\n",
       "    </tr>\n",
       "  </tbody>\n",
       "</table>\n",
       "</div>"
      ],
      "text/plain": [
       "                       Model      RMSE\n",
       "6  GradientBoostingRegressor  0.380862\n",
       "4      RandomForestRegressor  0.387001\n",
       "0           LinearRegression  0.399789\n",
       "8                      Ridge  0.399789\n",
       "5           BaggingRegressor  0.404444\n",
       "1                      Lasso  0.411309\n",
       "2        KNeighborsRegressor  0.464281\n",
       "9                Navie-Bayes  0.495929\n",
       "7         LogisticRegression  0.502309\n",
       "3      DecisionTreeRegressor  0.535294"
      ]
     },
     "execution_count": 46,
     "metadata": {},
     "output_type": "execute_result"
    }
   ],
   "source": [
    "Evaluation = pd.concat([evaluation, evaluation2], axis = 0, ignore_index = True)\n",
    "Evaluation.sort_values(by = 'RMSE', ascending = True)"
   ]
  },
  {
   "cell_type": "raw",
   "metadata": {},
   "source": [
    "submission = pd.read_csv('sample_submission_eyYijxG.csv')\n",
    "model = GBR\n",
    "model.fit(X, y)\n",
    "Predict = model.predict(final_test)\n",
    "Prediction1 = Predict.astype(int)\n",
    "submission['Is_Lead'] = Prediction1\n",
    "submission['Is_Lead'] = submission['Is_Lead'].apply(lambda x: 0 if x<0 else x)\n",
    "submission.to_csv('GBR_submission.csv', index = False)"
   ]
  },
  {
   "cell_type": "code",
   "execution_count": 47,
   "metadata": {},
   "outputs": [],
   "source": [
    "#from sklearn.linear_model import LinearRegression, LogisticRegression, Ridge, Lasso\n",
    "from sklearn.neighbors import KNeighborsClassifier\n",
    "from sklearn.naive_bayes import GaussianNB\n",
    "from sklearn.svm import SVC\n",
    "from sklearn.tree import DecisionTreeClassifier\n",
    "from sklearn.ensemble import RandomForestClassifier\n",
    "from sklearn.ensemble import BaggingClassifier\n",
    "from sklearn.ensemble import GradientBoostingClassifier\n",
    "from xgboost import XGBClassifier\n",
    "from sklearn.linear_model import SGDClassifier\n",
    "from sklearn.ensemble import AdaBoostClassifier\n",
    "from sklearn.ensemble import VotingClassifier\n",
    "\n",
    "\n",
    "\n",
    "\n",
    "\n",
    "#lin = LinearRegression()\n",
    "#log = LogisticRegression()\n",
    "#Rd = Ridge()\n",
    "#Ls = Lasso()\n",
    "KNNC = KNeighborsClassifier()\n",
    "NBC = GaussianNB() \n",
    "SVMC = SVC()\n",
    "DTC = DecisionTreeClassifier(criterion='gini', splitter='random', \n",
    "                           max_depth=5000, min_samples_split=25, min_samples_leaf=15, \n",
    "                           min_weight_fraction_leaf=0.0, max_features=None, \n",
    "                           random_state=645, max_leaf_nodes=None, \n",
    "                           min_impurity_decrease=0, min_impurity_split=None, \n",
    "                           ccp_alpha=0)\n",
    "RFC = RandomForestClassifier(n_estimators=5000, criterion='gini', max_depth=None, \n",
    "                             min_samples_split=25, min_samples_leaf=15, min_weight_fraction_leaf=0.0, \n",
    "                             max_features='log2', max_leaf_nodes=None, min_impurity_decrease=0.0, \n",
    "                             min_impurity_split=None, bootstrap=True, oob_score=False, n_jobs=-1, \n",
    "                             random_state=645, verbose=0, warm_start=False, \n",
    "                             ccp_alpha=0.0, max_samples=None)\n",
    "\n",
    "BC = BaggingClassifier(base_estimator = DT, n_estimators = 80)\n",
    "GBRC = GradientBoostingClassifier()\n",
    "xbgc = XGBClassifier()\n",
    "SGDC = SGDClassifier()\n",
    "ADC = AdaBoostClassifier()\n",
    "\n",
    "VotingClassifierModel = VotingClassifier(estimators=[('Logistic model',log),('Naive Bayes Regressor',NB),\n",
    "                                                     ('KNN',KNNC),('Support Vector Machines',SVMC),('Naive Bayes Classifier',NBC),\n",
    "                                                     ('Decision Tree classifier',DTC),('Random Forrest classifier',RFC),\n",
    "                                                     ('Gradient Boosting Classifier',GBRC), ('Stochastic Gradient Descent',SGDC),\n",
    "                                                     ('AdaBoostClassifier',ADC), ('XGBoost Classifier', xbgc)],voting='hard')"
   ]
  },
  {
   "cell_type": "code",
   "execution_count": 48,
   "metadata": {},
   "outputs": [
    {
     "name": "stdout",
     "output_type": "stream",
     "text": [
      "MSE:      0.28422016481839457\n",
      "rmse is:     0.5331230297205276\n",
      "f1_score is:      0.6658236510124993\n"
     ]
    }
   ],
   "source": [
    "KNNC.fit(X_train, y_train)\n",
    "y_pred = KNNC.predict(X_test)\n",
    "MSE = metrics.mean_squared_error(y_test,y_pred)\n",
    "print('MSE:     ', MSE)\n",
    "rmse4 = np.sqrt(MSE)\n",
    "print('rmse is:    ',rmse4)\n",
    "f1_score4 = f1_score(y_test, y_pred, average = 'weighted')\n",
    "print(\"f1_score is:     \", f1_score4)"
   ]
  },
  {
   "cell_type": "raw",
   "metadata": {},
   "source": [
    "SVMC.fit(X_train, y_train)\n",
    "y_pred = SVMC.predict(X_test)\n",
    "MSE = metrics.mean_squared_error(y_test,y_pred)\n",
    "print('MSE:     ', MSE)\n",
    "rmse5 = np.sqrt(MSE)\n",
    "print('rmse is:    ',rmse5)\n",
    "f1_score5 = f1_score(y_test, y_pred, average = 'weighted')\n",
    "print(\"f1_score is:     \", f1_score5)"
   ]
  },
  {
   "cell_type": "code",
   "execution_count": 49,
   "metadata": {},
   "outputs": [
    {
     "name": "stdout",
     "output_type": "stream",
     "text": [
      "MSE:      0.24594567097364942\n",
      "rmse is:     0.49592909873655266\n",
      "f1_score is:      0.6682721969566421\n"
     ]
    }
   ],
   "source": [
    "NBC.fit(X_train, y_train)\n",
    "y_pred = NBC.predict(X_test)\n",
    "MSE = metrics.mean_squared_error(y_test,y_pred)\n",
    "print('MSE:     ', MSE)\n",
    "rmse6 = np.sqrt(MSE)\n",
    "print('rmse is:    ',rmse6)\n",
    "f1_score6 = f1_score(y_test, y_pred, average = 'weighted')\n",
    "print(\"f1_score is:     \", f1_score6)"
   ]
  },
  {
   "cell_type": "code",
   "execution_count": 50,
   "metadata": {},
   "outputs": [
    {
     "name": "stdout",
     "output_type": "stream",
     "text": [
      "MSE:      0.22120256384169296\n",
      "rmse is:     0.4703217662852666\n",
      "f1_score is:      0.7523465305440473\n"
     ]
    }
   ],
   "source": [
    "DTC.fit(X_train, y_train)\n",
    "y_pred = DTC.predict(X_test)\n",
    "MSE = metrics.mean_squared_error(y_test,y_pred)\n",
    "print('MSE:     ', MSE)\n",
    "rmse7 = np.sqrt(MSE)\n",
    "print('rmse is:    ',rmse7)\n",
    "f1_score7 = f1_score(y_test, y_pred, average = 'weighted')\n",
    "print(\"f1_score is:     \", f1_score7)"
   ]
  },
  {
   "cell_type": "code",
   "execution_count": 51,
   "metadata": {},
   "outputs": [
    {
     "name": "stdout",
     "output_type": "stream",
     "text": [
      "MSE:      0.2114151999186082\n",
      "rmse is:     0.4597990864699583\n",
      "f1_score is:      0.7315011694637671\n"
     ]
    }
   ],
   "source": [
    "RFC.fit(X_train, y_train)\n",
    "y_pred = RFC.predict(X_test)\n",
    "MSE = metrics.mean_squared_error(y_test,y_pred)\n",
    "print('MSE:     ', MSE)\n",
    "rmse8 = np.sqrt(MSE)\n",
    "print('rmse is:    ',rmse8)\n",
    "f1_score8 = f1_score(y_test, y_pred, average = 'weighted')\n",
    "print(\"f1_score is:     \", f1_score8)"
   ]
  },
  {
   "cell_type": "raw",
   "metadata": {},
   "source": [
    "BC.fit(X_train, y_train)\n",
    "y_pred = BC.predict(X_test)\n",
    "MSE = metrics.mean_squared_error(y_test,y_pred)\n",
    "print('MSE:     ', MSE)\n",
    "rmse = np.sqrt(MSE)\n",
    "print('rmse is:    ',rmse)\n",
    "f1_score9 = f1_score(y_test, y_pred, average = 'weighted')\n",
    "print(\"f1_score is:     \", f1_score9)"
   ]
  },
  {
   "cell_type": "code",
   "execution_count": 53,
   "metadata": {},
   "outputs": [
    {
     "name": "stdout",
     "output_type": "stream",
     "text": [
      "MSE:      0.2105605860209584\n",
      "rmse is:     0.4588688113404074\n",
      "f1_score is:      0.7408476915317489\n"
     ]
    }
   ],
   "source": [
    "GBRC.fit(X_train, y_train)\n",
    "y_pred = GBRC.predict(X_test)\n",
    "MSE = metrics.mean_squared_error(y_test,y_pred)\n",
    "print('MSE:     ', MSE)\n",
    "rmse9 = np.sqrt(MSE)\n",
    "print('rmse is:    ',rmse9)\n",
    "f1_score9 = f1_score(y_test, y_pred, average = 'weighted')\n",
    "print(\"f1_score is:     \", f1_score9)"
   ]
  },
  {
   "cell_type": "code",
   "execution_count": 54,
   "metadata": {},
   "outputs": [
    {
     "name": "stdout",
     "output_type": "stream",
     "text": [
      "MSE:      0.23910875979245091\n",
      "rmse is:     0.4889874842901922\n",
      "f1_score is:      0.6575709688422813\n"
     ]
    }
   ],
   "source": [
    "SGDC.fit(X_train, y_train)\n",
    "y_pred = SGDC.predict(X_test)\n",
    "MSE = metrics.mean_squared_error(y_test,y_pred)\n",
    "print('MSE:     ', MSE)\n",
    "rmse10 = np.sqrt(MSE)\n",
    "print('rmse is:    ',rmse10)\n",
    "f1_score10 = f1_score(y_test, y_pred, average = 'weighted')\n",
    "print(\"f1_score is:     \", f1_score10)"
   ]
  },
  {
   "cell_type": "code",
   "execution_count": 55,
   "metadata": {},
   "outputs": [
    {
     "name": "stdout",
     "output_type": "stream",
     "text": [
      "MSE:      0.21829280699969478\n",
      "rmse is:     0.4672181578231895\n",
      "f1_score is:      0.7332955365731921\n"
     ]
    }
   ],
   "source": [
    "ADC.fit(X_train, y_train)\n",
    "y_pred = ADC.predict(X_test)\n",
    "MSE = metrics.mean_squared_error(y_test,y_pred)\n",
    "print('MSE:     ', MSE)\n",
    "rmse11 = np.sqrt(MSE)\n",
    "print('rmse is:    ',rmse11)\n",
    "f1_score11 = f1_score(y_test, y_pred, average = 'weighted')\n",
    "print(\"f1_score is:     \", f1_score11)"
   ]
  },
  {
   "cell_type": "code",
   "execution_count": 56,
   "metadata": {},
   "outputs": [
    {
     "name": "stdout",
     "output_type": "stream",
     "text": [
      "[07:57:55] WARNING: C:/Users/Administrator/workspace/xgboost-win64_release_1.4.0/src/learner.cc:1095: Starting in XGBoost 1.3.0, the default evaluation metric used with the objective 'binary:logistic' was changed from 'error' to 'logloss'. Explicitly set eval_metric if you'd like to restore the old behavior.\n",
      "MSE:      0.20870892257605048\n",
      "rmse is:     0.4568467167180371\n",
      "f1_score is:      0.7548876299266872\n"
     ]
    }
   ],
   "source": [
    "xbgc.fit(X_train, y_train)\n",
    "y_pred = xbgc.predict(X_test)\n",
    "MSE = metrics.mean_squared_error(y_test,y_pred)\n",
    "print('MSE:     ', MSE)\n",
    "rmse12 = np.sqrt(MSE)\n",
    "print('rmse is:    ',rmse12)\n",
    "f1_score12 = f1_score(y_test, y_pred, average = 'weighted')\n",
    "print(\"f1_score is:     \", f1_score12)"
   ]
  },
  {
   "cell_type": "raw",
   "metadata": {},
   "source": [
    "VotingClassifierModel.fit(X_train, y_train)\n",
    "y_pred = VotingClassifierModel.predict(X_test)\n",
    "MSE = metrics.mean_squared_error(y_test,y_pred)\n",
    "print('MSE:     ', MSE)\n",
    "rmse13 = np.sqrt(MSE)\n",
    "print('rmse is:    ',rmse13)\n",
    "f1_score13 = f1_score(y_test, y_pred, average = 'weighted')\n",
    "print(\"f1_score is:     \", f1_score13)"
   ]
  },
  {
   "cell_type": "code",
   "execution_count": null,
   "metadata": {},
   "outputs": [],
   "source": [
    "f1_scores = pd.DataFrame({\n",
    "    'f1_scores' : []\n",
    "})"
   ]
  }
 ],
 "metadata": {
  "kernelspec": {
   "display_name": "Python 3",
   "language": "python",
   "name": "python3"
  },
  "language_info": {
   "codemirror_mode": {
    "name": "ipython",
    "version": 3
   },
   "file_extension": ".py",
   "mimetype": "text/x-python",
   "name": "python",
   "nbconvert_exporter": "python",
   "pygments_lexer": "ipython3",
   "version": "3.8.3"
  }
 },
 "nbformat": 4,
 "nbformat_minor": 4
}
